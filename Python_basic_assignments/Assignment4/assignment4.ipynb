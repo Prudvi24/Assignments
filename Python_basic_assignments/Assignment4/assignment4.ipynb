{
  "nbformat": 4,
  "nbformat_minor": 0,
  "metadata": {
    "colab": {
      "provenance": []
    },
    "kernelspec": {
      "name": "python3",
      "display_name": "Python 3"
    },
    "language_info": {
      "name": "python"
    }
  },
  "cells": [
    {
      "cell_type": "markdown",
      "source": [
        "<b>1. What exactly is []? </b>"
      ],
      "metadata": {
        "id": "29PMUnTT9qoQ"
      }
    },
    {
      "cell_type": "markdown",
      "source": [
        "Ans: [] is an empty list. Empty list is list having 0 or no elements in it. Length of this list is always 0."
      ],
      "metadata": {
        "id": "bDDwb6VS90QT"
      }
    },
    {
      "cell_type": "markdown",
      "source": [
        "<b>2. In a list of values stored in a variable called spam, how would you assign the value &#39;hello&#39; as the\n",
        "third value? (Assume [2, 4, 6, 8, 10] are in spam.)</b>"
      ],
      "metadata": {
        "id": "OQw39rxa-JRz"
      }
    },
    {
      "cell_type": "markdown",
      "source": [
        "Ans: <br>\n",
        "1st way : spam.insert(3,\"hello\") # It inserts the element at the 3rd location. Importantly python follows 0 indexing.<br>\n",
        "2nd way : Replacing the third value in the spam list with hello\n",
        "hello[2]='hello'"
      ],
      "metadata": {
        "id": "WS8O1hP9H6KE"
      }
    },
    {
      "cell_type": "code",
      "execution_count": 2,
      "metadata": {
        "colab": {
          "base_uri": "https://localhost:8080/"
        },
        "id": "-5hoARbN9NfL",
        "outputId": "1e8a2dbf-c6ff-4b0d-e1bb-1fb23ee8f845"
      },
      "outputs": [
        {
          "output_type": "stream",
          "name": "stdout",
          "text": [
            "[2, 4, 6, 8, 10]\n",
            "[2, 4, 'hello', 6, 8, 10]\n"
          ]
        }
      ],
      "source": [
        "#1st way\n",
        "spam = [2, 4, 6, 8, 10]\n",
        "print(spam)\n",
        "spam.insert(2,'hello')\n",
        "print(spam)"
      ]
    },
    {
      "cell_type": "code",
      "source": [
        "# 2nd way\n",
        "spam = [2, 4, 6, 8, 10]\n",
        "print(spam)\n",
        "spam[2] = 'hello'\n",
        "print(spam)"
      ],
      "metadata": {
        "colab": {
          "base_uri": "https://localhost:8080/"
        },
        "id": "_mz_u6-1I37K",
        "outputId": "65b7b4ab-4fdb-4c7a-c362-3714daebada3"
      },
      "execution_count": 3,
      "outputs": [
        {
          "output_type": "stream",
          "name": "stdout",
          "text": [
            "[2, 4, 6, 8, 10]\n",
            "[2, 4, 'hello', 8, 10]\n"
          ]
        }
      ]
    },
    {
      "cell_type": "markdown",
      "source": [
        "<b>Let&#39;s pretend the spam includes the list [&#39;a&#39;, &#39;b&#39;, &#39;c&#39;, &#39;d&#39;] for the next three queries.</b>"
      ],
      "metadata": {
        "id": "KTWPchqxJDzc"
      }
    },
    {
      "cell_type": "markdown",
      "source": [
        "<b>3. What is the value of spam[int(int(&#39;3&#39; * 2) / 11)]?</b>"
      ],
      "metadata": {
        "id": "zVfYRayvJJBG"
      }
    },
    {
      "cell_type": "markdown",
      "source": [
        "Ans: lets expand spam[int(int('3'*2)/11)]<br>\n",
        "<ul>\n",
        "<li>Firstly * and / are left associative and having same precedence</li>\n",
        "<li>'3'*2 = '33' &emsp; ---> &emsp; type casting it to the int int('33') becomes integer 33.</li>\n",
        "<li>spam[int(33/11)] = spam[int(3)] = spam[3].</li>\n",
        "\n",
        "<li>It prints 4th element in the spam list which is 'd'</li>\n",
        "</ul>"
      ],
      "metadata": {
        "id": "AlZWaoPjJULr"
      }
    },
    {
      "cell_type": "markdown",
      "source": [
        "<b>4. What is the value of spam[-1]?</b>"
      ],
      "metadata": {
        "id": "PROr4bI0LHqa"
      }
    },
    {
      "cell_type": "markdown",
      "source": [
        "Ans : spam[-1] prints the last element in the last which is 'd'.<br>"
      ],
      "metadata": {
        "id": "x79kZh04LMqi"
      }
    },
    {
      "cell_type": "markdown",
      "source": [
        "<b>5. What is the value of spam[:2]?</b>"
      ],
      "metadata": {
        "id": "6iyqAJmILWbl"
      }
    },
    {
      "cell_type": "markdown",
      "source": [
        "Ans : <br>\n",
        "Basically a list can be traversed in the below way using below syntax.<br>\n",
        "spam[start_index : end_index : stepsize], it prints all the elements from start index to end-1 index with the step size.<br>\n",
        "In our case it prints ['a',&nbsp; 'b']"
      ],
      "metadata": {
        "id": "fGd4C2peLf69"
      }
    },
    {
      "cell_type": "markdown",
      "source": [
        "<b>Let&#39;s pretend bacon has the list [3.14, &#39;cat,&#39; 11, &#39;cat,&#39; True] for the next three questions.</b>"
      ],
      "metadata": {
        "id": "YgT_UgexMPtU"
      }
    },
    {
      "cell_type": "markdown",
      "source": [
        "<b>6. What is the value of bacon.index(&#39;cat&#39;)?</b>"
      ],
      "metadata": {
        "id": "xCP_C32eLcV6"
      }
    },
    {
      "cell_type": "markdown",
      "source": [
        "Ans: It returns the index of first occurrence of the element cat in the list.<br>\n",
        "In our case it return 1.<br>"
      ],
      "metadata": {
        "id": "7GpWGKmvMo5P"
      }
    },
    {
      "cell_type": "markdown",
      "source": [
        "<b>7. How does bacon.append(99) change the look of the list value in bacon?</b>"
      ],
      "metadata": {
        "id": "LBZHfd0uMzs7"
      }
    },
    {
      "cell_type": "markdown",
      "source": [
        "Ans: append method push the elements to the end of the list.<br>\n",
        "\n",
        "In our case, after the operation bacon.append(99). It becomes [3.14, 'cat', 11, 'cat', True, 99]. </br>"
      ],
      "metadata": {
        "id": "ZGg1Qj53M6Ev"
      }
    },
    {
      "cell_type": "markdown",
      "source": [
        "<b>8. How does bacon.remove(&#39;cat&#39;) change the look of the list in bacon?</b>"
      ],
      "metadata": {
        "id": "rm4RNpkIN45z"
      }
    },
    {
      "cell_type": "markdown",
      "source": [
        "Ans : remove method removes the first occurrence target element from the list and it returns none.</br>\n",
        "In ourcase it returns [3.14, 11, 'cat', True]. <br>"
      ],
      "metadata": {
        "id": "kBuSSZa9N_iY"
      }
    },
    {
      "cell_type": "markdown",
      "source": [
        "<b>9. What are the list concatenation and list replication operators</b>"
      ],
      "metadata": {
        "id": "7AEvJwE_OiQx"
      }
    },
    {
      "cell_type": "markdown",
      "source": [
        "Ans : list concatenation is to concatnate two or more list using the **\"+\"** operator and return the result list.<br>\n",
        "whereas the replication operator replicates the elements with specified number of times and returns the result list. <br>"
      ],
      "metadata": {
        "id": "7zDTSG1cOrfe"
      }
    },
    {
      "cell_type": "code",
      "source": [
        "#list concatenation\n",
        "list1 = ['a','b','c','d']\n",
        "list2 = [1,2,3,4,5]\n",
        "\n",
        "list3 = list1+list2\n",
        "print(list3)\n",
        "\n",
        "#list replication\n",
        "list4 = ['m','n',10,11]\n",
        "list5 = list4*2\n",
        "print(list5)"
      ],
      "metadata": {
        "colab": {
          "base_uri": "https://localhost:8080/"
        },
        "id": "jGOgofmBJVYX",
        "outputId": "cfd77ece-31ff-4b68-d298-a3255b337cf4"
      },
      "execution_count": 14,
      "outputs": [
        {
          "output_type": "stream",
          "name": "stdout",
          "text": [
            "['a', 'b', 'c', 'd', 1, 2, 3, 4, 5]\n",
            "['m', 'n', 10, 11, 'm', 'n', 10, 11]\n"
          ]
        }
      ]
    },
    {
      "cell_type": "markdown",
      "source": [
        "<b>10. What is difference between the list methods append() and insert()?</b>"
      ],
      "metadata": {
        "id": "JCLJ-KXcP6aI"
      }
    },
    {
      "cell_type": "markdown",
      "source": [
        "Ans:<br>\n",
        "**append()** : this method pushes or appends the element to the end of the list / next to the current last element in the list.<br>\n",
        "eg: a = [1,2,3] &ensp;-->&ensp; a.append('h') &ensp;-->&ensp; the resulting list becomes [1,2,3,'h'].<br>\n",
        "**insert(pos,element)** : this method inserts the element to the speicified position in the list. It adjusts the index of the following elements.<br>\n",
        "eg: a = [1,2,3] &ensp;-->&ensp; a.insert(1,'h') &ensp;-->&ensp; the resulting list becomes [1,'h',2,3].<br>"
      ],
      "metadata": {
        "id": "0KogmcWKQDiC"
      }
    },
    {
      "cell_type": "markdown",
      "source": [
        "<b>11.What are the two methods for removing items from a list?</b>"
      ],
      "metadata": {
        "id": "9F4OkAyUQDsX"
      }
    },
    {
      "cell_type": "markdown",
      "source": [
        "Ans : del and remove are the two methods for removing any specific item from a list."
      ],
      "metadata": {
        "id": "DoG2zjrcQD9I"
      }
    },
    {
      "cell_type": "markdown",
      "source": [
        "<b>12. Describe how list values and string values are identical.</b>"
      ],
      "metadata": {
        "id": "kvjvuc7dRsLh"
      }
    },
    {
      "cell_type": "markdown",
      "source": [
        "Ans :<br>\n",
        "list values and string values are identical in the following manner.<br>\n",
        "<ul>\n",
        "<li>indexing is similiar in list and string.</li>\n",
        "<li>len() function can be used find the length of the string and list.</li>\n",
        "<li>\"in\" operator can be used for both strings and lists to find the whether the element exist in the list or not.</li>\n",
        "<li> \"not in\" operator for both list and string.</li>\n",
        "<li> \"index()\" return first occurrence of element in both list and string.</li>\n",
        "</ul>"
      ],
      "metadata": {
        "id": "dHfaaq2tRtVj"
      }
    },
    {
      "cell_type": "markdown",
      "source": [
        "<b>13. What&#39;s the difference between tuples and lists?</b>"
      ],
      "metadata": {
        "id": "4XYqL3FAWPX8"
      }
    },
    {
      "cell_type": "markdown",
      "source": [
        "Ans: <br>\n",
        "The major difference between list and tuple is list is mutable where as tuples immutable (not mutable)."
      ],
      "metadata": {
        "id": "DCny__wHWxkV"
      }
    },
    {
      "cell_type": "markdown",
      "source": [
        "<b>14. How do you type a tuple value that only contains the integer 42?</b>"
      ],
      "metadata": {
        "id": "AWJ3RmnKXFDI"
      }
    },
    {
      "cell_type": "markdown",
      "source": [
        "Ans : t = (42,)"
      ],
      "metadata": {
        "id": "Plca-IjtXSiH"
      }
    },
    {
      "cell_type": "markdown",
      "source": [
        "<b>15: How do you get a list value&#39;s tuple form? How do you get a tuple value&#39;s list form?</b>"
      ],
      "metadata": {
        "id": "Up26r2RPXVry"
      }
    },
    {
      "cell_type": "markdown",
      "source": [
        "Ans :<br>\n",
        "list() function is used to convert a tuple to list.<br>\n",
        "tuple() function is used to convert a list to tuple. <br>"
      ],
      "metadata": {
        "id": "VeN9dQk_Xg-P"
      }
    },
    {
      "cell_type": "markdown",
      "source": [
        "<b>16. Variables that &quot;contain&quot; list values are not necessarily lists themselves. Instead, what do they\n",
        "contain?</b>"
      ],
      "metadata": {
        "id": "IwruCBkCX5YN"
      }
    },
    {
      "cell_type": "markdown",
      "source": [
        "Ans : A variable containing list values are not necessarily lists because they contain reference to the list."
      ],
      "metadata": {
        "id": "IMDwXQ5qYcNN"
      }
    },
    {
      "cell_type": "markdown",
      "source": [
        "<b>17. How do you distinguish between copy.copy() and copy.deepcopy()?</b>"
      ],
      "metadata": {
        "id": "mWA8bbEvZm8O"
      }
    },
    {
      "cell_type": "markdown",
      "source": [
        "Ans: copy.copy() does shallow copy of the data. In shallow copy the variables always refer to the same data, change in one variable will reflect in all variables.<br>\n",
        "copy.deepcopy() does deep copy of the data. In deep copy a new variable is created data is copied to the variable, change in one variable is not reflected in other variables.<br>\n",
        "\n",
        "Eg is shown below"
      ],
      "metadata": {
        "id": "HTxnSR61ZtJz"
      }
    },
    {
      "cell_type": "code",
      "source": [
        "# shallow copy\n",
        "import copy\n",
        "a = [1,2,3,4,[5,6]]\n",
        "b = copy.copy(a)\n",
        "b[4][0]=\"happy\"     # change in b reflects in a also.\n",
        "print(a)\n",
        "print(\"address of a[4][0] is :\",id(a[4][0]))\n",
        "print(\"address of b[4][0] is :\",id(b[4][0]))\n",
        "print(id(a[4][0])==id(b[4][0]))"
      ],
      "metadata": {
        "colab": {
          "base_uri": "https://localhost:8080/"
        },
        "id": "Pj_KO4w0WWgr",
        "outputId": "d6460d04-81b5-4f18-b74c-03243d0e6b1a"
      },
      "execution_count": 31,
      "outputs": [
        {
          "output_type": "stream",
          "name": "stdout",
          "text": [
            "[1, 2, 3, 4, ['happy', 6]]\n",
            "address of a[4][0] is : 132615942387184\n",
            "address of b[4][0] is : 132615942387184\n",
            "True\n"
          ]
        }
      ]
    },
    {
      "cell_type": "code",
      "source": [
        "# deep copy\n",
        "import copy\n",
        "c = [1,2,3,4,[5,6]]\n",
        "d = copy.deepcopy(c)\n",
        "d[4][0]=\"happy\"     # change in d doesn't reflects in c.\n",
        "print(c)\n",
        "print(\"address of c[4][0] is :\",id(c[4][0]))\n",
        "print(\"address of d[4][0] is :\",id(d[4][0]))\n",
        "print(id(c[4][0])==id(d[4][0]))"
      ],
      "metadata": {
        "colab": {
          "base_uri": "https://localhost:8080/"
        },
        "id": "Ho1vyxDudy68",
        "outputId": "7eae81fd-9b44-4e68-a903-ac5c55fbe7b0"
      },
      "execution_count": 33,
      "outputs": [
        {
          "output_type": "stream",
          "name": "stdout",
          "text": [
            "[1, 2, 3, 4, [5, 6]]\n",
            "address of c[4][0] is : 132616849129840\n",
            "address of d[4][0] is : 132615942387184\n",
            "False\n"
          ]
        }
      ]
    }
  ]
}