{
  "nbformat": 4,
  "nbformat_minor": 0,
  "metadata": {
    "colab": {
      "provenance": []
    },
    "kernelspec": {
      "name": "python3",
      "display_name": "Python 3"
    },
    "language_info": {
      "name": "python"
    }
  },
  "cells": [
    {
      "cell_type": "markdown",
      "source": [
        "<b>1. Why are functions advantageous to have in your programs?</b>"
      ],
      "metadata": {
        "id": "imslQvqFfjut"
      }
    },
    {
      "cell_type": "markdown",
      "source": [
        "Ans:<br>\n",
        "Function is block of code that perform a specific task. Functions are used to hold the common and repeated code in the program, so that instead of writing the same code again and again. We can reuse the function code again and again using fuction call. </br>\n",
        "Advantages in simple words.\n",
        "<li>\n",
        "<ul>Code readability</ul>\n",
        "<ul>code reusability</ul>\n",
        "</li>"
      ],
      "metadata": {
        "id": "0es-qijZfmxi"
      }
    },
    {
      "cell_type": "markdown",
      "source": [
        "<b>2. When does the code in a function run: when it is specified or when it is called?</b>"
      ],
      "metadata": {
        "id": "v2CPZza1hl1V"
      }
    },
    {
      "cell_type": "markdown",
      "source": [
        "Ans:</br>\n",
        "The code in the function run when is called. <br> Specifying the functions is nothing but defining the function, to use the function we have to call the function."
      ],
      "metadata": {
        "id": "dUPs0_5oiA1l"
      }
    },
    {
      "cell_type": "markdown",
      "source": [
        "<b>3. What statement creates a function?</b>"
      ],
      "metadata": {
        "id": "f0HZOkRrm1NY"
      }
    },
    {
      "cell_type": "markdown",
      "source": [
        "Ans:<br>\n",
        "In python to create or define a function we have to use below syntax.<br>\n",
        "def function(args):<br>\n",
        "     &emsp; instr1<br>\n",
        "     &emsp; instr2 <br>\n",
        "     &emsp; instr3 <br>\n",
        "     &emsp; return </br>\n",
        "def is keyword to say the compiler that a function is going to be defined.</br>\n",
        "Followed by a function name (follow the naming convention).</br>\n",
        "arguments are optional (upto the function usecase)</br>\n",
        "Followed by code / instruction execution and return statement. </br>\n"
      ],
      "metadata": {
        "id": "52JTD2Azm-Rm"
      }
    },
    {
      "cell_type": "markdown",
      "source": [
        "<b>4. What is the difference between a function and a function call? </b>"
      ],
      "metadata": {
        "id": "YAC8xWreo66U"
      }
    },
    {
      "cell_type": "markdown",
      "source": [
        "Ans:<br>\n",
        "<b>Function</b> is block of code that perform a specific task. Functions are used to hold the common and repeated code in the program, so that instead of writing the same code again and again. We can reuse the function code again and again using fuction call.<br>\n",
        "<b>Function call</b> is used to execute the code defined in the function. It is called using when it is required at any specific point. In function call we dont use def keyword, we just use the function name with the actual arguments(optional)."
      ],
      "metadata": {
        "id": "EMAxkAJYpRlD"
      }
    },
    {
      "cell_type": "markdown",
      "source": [
        "<b> 5.How many global scopes are there in a Python program? How many local scopes? </b>"
      ],
      "metadata": {
        "id": "8EmFO2BrqREp"
      }
    },
    {
      "cell_type": "markdown",
      "source": [
        "Ans:<br>\n",
        "There is only one **global scope** in the entire python prgoram.<br>\n",
        "There can be many **local scope** in the program because local variables are created and stored in the stack of process. When the specific work is done the varaibles are popped from the process stack (varibales are erased) from the scope."
      ],
      "metadata": {
        "id": "W6MmOmBRqnKE"
      }
    },
    {
      "cell_type": "markdown",
      "source": [
        "<b>6. What happens to variables in a local scope when the function call returns?</b>"
      ],
      "metadata": {
        "id": "GQrjiKT7rMHH"
      }
    },
    {
      "cell_type": "markdown",
      "source": [
        "Ans:<br>\n",
        "The local scope data afte the function call returns are erased because when the function starts execution, the local variables in the function pushed into the process stack and after execution the the data is popped from the process stack after the return statement."
      ],
      "metadata": {
        "id": "qN_8aI4arUoA"
      }
    },
    {
      "cell_type": "markdown",
      "source": [
        "<b>7. What is the concept of a return value? Is it possible to have a return value in an expression?</b>"
      ],
      "metadata": {
        "id": "YLHPExQGrUyV"
      }
    },
    {
      "cell_type": "markdown",
      "source": [
        "Ans:<br>\n",
        "Return value in programming is used to provide evalution of the code result or resulting value after entire execution of the function code.<br>\n",
        "Yes, we can have a return values as an expression evaluating to a value.<br>\n",
        "E.g : return (a==b)"
      ],
      "metadata": {
        "id": "Ner_KlAwsOe1"
      }
    },
    {
      "cell_type": "markdown",
      "source": [
        "<b>8. If a function does not have a return statement, what is the return value of a call to that function?</b>"
      ],
      "metadata": {
        "id": "fUAEPifbzfW2"
      }
    },
    {
      "cell_type": "markdown",
      "source": [
        "Ans:<br>\n",
        "If the function doesnot have a return statement then it returns None. The type of function shows NoneType."
      ],
      "metadata": {
        "id": "c2eprThc0AXR"
      }
    },
    {
      "cell_type": "markdown",
      "source": [
        "9. How do you make a function variable refer to the global variable?"
      ],
      "metadata": {
        "id": "vGEcTJP00SQR"
      }
    },
    {
      "cell_type": "code",
      "execution_count": 6,
      "metadata": {
        "colab": {
          "base_uri": "https://localhost:8080/"
        },
        "id": "TNbrLc0Qfbjk",
        "outputId": "0c494c40-d9ea-449d-a1f6-7f18e9b6010f"
      },
      "outputs": [
        {
          "output_type": "stream",
          "name": "stdout",
          "text": [
            "happy\n",
            "happy excited\n"
          ]
        }
      ],
      "source": [
        "\"\"\"\n",
        "To make function variable refer to the global variables we need to use global keyword. Example is shown below.\n",
        "\"\"\"\n",
        "\n",
        "def fun():\n",
        "  global s   # at this s refers to global variable\n",
        "  print(s)\n",
        "  s = s+\" excited\" # changed the value in the global varibale\n",
        "\n",
        "s = \"happy\"\n",
        "fun()\n",
        "print(s)  # prints the current values in the global variable"
      ]
    },
    {
      "cell_type": "markdown",
      "source": [
        "<b>10. What is the data type of None?</b>"
      ],
      "metadata": {
        "id": "qfZM3nxW1paJ"
      }
    },
    {
      "cell_type": "markdown",
      "source": [
        "Ans : The return type of None is NoneType"
      ],
      "metadata": {
        "id": "j0KeZOQr11Hq"
      }
    },
    {
      "cell_type": "markdown",
      "source": [
        "<b>11. What does the sentence import areallyourpetsnamederic do?</b>"
      ],
      "metadata": {
        "id": "FGE2M_r717Rq"
      }
    },
    {
      "cell_type": "markdown",
      "source": [
        "Ans : import areallyourpetsnamederic <br>\n",
        "The above statement import a module named areallyourpetsnamederic."
      ],
      "metadata": {
        "id": "0Z3b7xRx2RuK"
      }
    },
    {
      "cell_type": "markdown",
      "source": [
        "<b>12. If you had a bacon() feature in a spam module, what would you call it after importing spam?</b>"
      ],
      "metadata": {
        "id": "POn0DEXs2kEb"
      }
    },
    {
      "cell_type": "markdown",
      "source": [
        "Ans: <br>\n",
        "import spam<br>\n",
        "spam.bacon(). To use the feature bacon() <br>"
      ],
      "metadata": {
        "id": "ZkNT-IKN2svq"
      }
    },
    {
      "cell_type": "markdown",
      "source": [
        "<b>13. What can you do to save a programme from crashing if it encounters an error?</b>"
      ],
      "metadata": {
        "id": "AHA3Y7UV2_Yx"
      }
    },
    {
      "cell_type": "markdown",
      "source": [
        "Ans:<br>\n",
        "To save any programme from crashing we must use exception handling to handle all runtime errors. we use try clause to enclose the code which has possiblity to cause error and use except to handle the error."
      ],
      "metadata": {
        "id": "w6f3oJpe3HXY"
      }
    },
    {
      "cell_type": "markdown",
      "source": [
        "</b>14. What is the purpose of the try clause? What is the purpose of the except clause?</b>"
      ],
      "metadata": {
        "id": "boKR9kdr5ve9"
      }
    },
    {
      "cell_type": "markdown",
      "source": [
        "Ans: <br>\n",
        "try clause encloses the code the which has possibility to raise or cause an error in runtime.<br>\n",
        "except clause is used to handle the coressponding in a grace manner without crashing the code.<br>"
      ],
      "metadata": {
        "id": "4o1blasC52Ia"
      }
    }
  ]
}