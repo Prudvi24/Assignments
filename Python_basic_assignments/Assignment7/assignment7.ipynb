{
  "nbformat": 4,
  "nbformat_minor": 0,
  "metadata": {
    "colab": {
      "provenance": []
    },
    "kernelspec": {
      "name": "python3",
      "display_name": "Python 3"
    },
    "language_info": {
      "name": "python"
    }
  },
  "cells": [
    {
      "cell_type": "markdown",
      "source": [
        "Q.1. Create two int type variables, apply addition, subtraction, division and multiplications\n",
        "and store the results in variables.<br> Then print the data in the following format by calling the\n",
        "variables:<br>\n",
        "First variable is __ & second variable is __. <br>\n",
        "Addition: __ + __ = __ <br>\n",
        "Subtraction: __ - __ = __ <br>\n",
        "Multiplication: __ * __ = __ <br>\n",
        "Division: __ / __ = __ <br>"
      ],
      "metadata": {
        "id": "xiSrb5i53yhZ"
      }
    },
    {
      "cell_type": "code",
      "execution_count": 5,
      "metadata": {
        "colab": {
          "base_uri": "https://localhost:8080/"
        },
        "id": "6MfhjqyHzuP2",
        "outputId": "08e89e31-1996-46d3-dd3b-52794484a056"
      },
      "outputs": [
        {
          "output_type": "stream",
          "name": "stdout",
          "text": [
            "Enter 1st number: 100\n",
            "Enter 2nd number: 25\n",
            "Addition:100+25=125\n",
            "Subtraction:100-25=75\n",
            "Multiplication:100*25=2500\n",
            "Division:100/25=4.0\n"
          ]
        }
      ],
      "source": [
        "def calc(a,b):\n",
        "  try:\n",
        "    addition = a+b\n",
        "    subtraction = a-b\n",
        "    mul = a*b\n",
        "    div = a/b\n",
        "  except ZeroDivisionError:\n",
        "    div = \"NaN\"\n",
        "    print(\"Error: Cannot divide by zero\")\n",
        "  return (addition, subtraction, mul, div)\n",
        "\n",
        "num1 = int(input(\"Enter 1st number: \"))\n",
        "num2 = int(input(\"Enter 2nd number: \"))\n",
        "a,s,m,d = calc(num1, num2)\n",
        "print(f\"Addition:{num1}+{num2}={a}\")\n",
        "print(f\"Subtraction:{num1}-{num2}={s}\")\n",
        "print(f\"Multiplication:{num1}*{num2}={m}\")\n",
        "print(f\"Division:{num1}/{num2}={d}\")"
      ]
    },
    {
      "cell_type": "markdown",
      "source": [
        "<b>Q.2. What is the difference between the following operators:<br>\n",
        "(i) ‘/’ & ‘//’ <br>\n",
        "(ii) ‘**’ & ‘^’<br></b>"
      ],
      "metadata": {
        "id": "nWzDSoVLKG4N"
      }
    },
    {
      "cell_type": "markdown",
      "source": [
        "Ans: <br>\n",
        "(i) '/' is the division operator. It divides left hand operand by the right hand operand and yields a floating number.<br>\n",
        "(ii) '//' is the floor division operator. It divides left hand operand by the right hand operand and yields an floor number (i.e integer) nearest to the resulting floating number."
      ],
      "metadata": {
        "id": "QRizOB6tKUaf"
      }
    },
    {
      "cell_type": "code",
      "source": [
        "a = (11/3)\n",
        "b = (11//3)\n",
        "print(a, type(a))\n",
        "print(b, type(b))"
      ],
      "metadata": {
        "colab": {
          "base_uri": "https://localhost:8080/"
        },
        "id": "qt-OeMliKsMc",
        "outputId": "479817b2-b658-4252-b138-57f7ce7029dd"
      },
      "execution_count": 9,
      "outputs": [
        {
          "output_type": "stream",
          "name": "stdout",
          "text": [
            "3.6666666666666665 <class 'float'>\n",
            "3 <class 'int'>\n"
          ]
        }
      ]
    },
    {
      "cell_type": "markdown",
      "source": [
        "<b>3. List the logical operators.</b>"
      ],
      "metadata": {
        "id": "VGGCrXrvMP5i"
      }
    },
    {
      "cell_type": "markdown",
      "source": [
        "Ans : There are three logical operator in python, which return a boolean value.<br>\n",
        "<ul>\n",
        "<li><b>and</b> operator also known as conjunction</li>\n",
        "<li><b>or</b> operator also known as disjunction</li>\n",
        "<li><b>not</b> operator also known as negation</li>\n",
        "</ul>"
      ],
      "metadata": {
        "id": "YEQhJJZUMXp7"
      }
    },
    {
      "cell_type": "markdown",
      "source": [
        "<b>4. Explain right shift operator and left shift operator with examples.</b>"
      ],
      "metadata": {
        "id": "ivGevGWWNsPU"
      }
    },
    {
      "cell_type": "markdown",
      "source": [
        "Ans : <br>\n",
        "<b> right shift operator: </b> It basically does bit manipulation, moves bits of left operand by number of times of the right operand to the right and fill gaps by zero. Hence it reduces the value of a number or \"divides the number by 2 power right operand\".<br>\n",
        "<b>left shift operator: </b> It basically does bit manipulation, moves bits of left operand by number of times of the right operand to the left and fill gaps by zero. Hence it increases the value of a number or \"multiplies the number by 2 power right operand\" <br>"
      ],
      "metadata": {
        "id": "-aY01ZmkNyZw"
      }
    },
    {
      "cell_type": "code",
      "source": [
        "#left shift operand\n",
        "a = 5\n",
        "b = a<<2\n",
        "print(a, \"and it's binary is \", bin(a))\n",
        "print(b, \"and it's binary is \", bin(b))"
      ],
      "metadata": {
        "colab": {
          "base_uri": "https://localhost:8080/"
        },
        "id": "5zc8aYIcL06C",
        "outputId": "0ebf349c-66e5-4d34-a186-928174aefaed"
      },
      "execution_count": 11,
      "outputs": [
        {
          "output_type": "stream",
          "name": "stdout",
          "text": [
            "5 and it's binary is  0b101\n",
            "20 and it's binary is  0b10100\n"
          ]
        }
      ]
    },
    {
      "cell_type": "code",
      "source": [
        "#right shift operand\n",
        "c = 5\n",
        "d = a>>2\n",
        "print(c, \"and it's binary is \", bin(c))\n",
        "print(d, \"and it's binary is \", bin(d))"
      ],
      "metadata": {
        "colab": {
          "base_uri": "https://localhost:8080/"
        },
        "id": "WOkwzUfcSLqH",
        "outputId": "a0779425-c27e-49cf-dafb-47824a761672"
      },
      "execution_count": 13,
      "outputs": [
        {
          "output_type": "stream",
          "name": "stdout",
          "text": [
            "5 and it's binary is  0b101\n",
            "1 and it's binary is  0b1\n"
          ]
        }
      ]
    },
    {
      "cell_type": "markdown",
      "source": [
        "<b>5. *Create* a list containing int type data of length 15. Then write a code to check if 10 is\n",
        "present in the list or not.</b>"
      ],
      "metadata": {
        "id": "nlZSumAUShIV"
      }
    },
    {
      "cell_type": "code",
      "source": [
        "list1 = list(range(6,36,2))\n",
        "print(\"Elements in tge list: \",list1)\n",
        "print(\"Length of the list: \",len(list1))\n",
        "\n",
        "#code to check 10 is present in the list or not\n",
        "if 10 in list1:\n",
        "  print(\"10 is present in the list\")\n",
        "else:\n",
        "  print(\"10 does not exist in the list\")"
      ],
      "metadata": {
        "colab": {
          "base_uri": "https://localhost:8080/"
        },
        "id": "L3jM20iqS2eh",
        "outputId": "d3d753ca-6c64-4c5b-8b8a-42246523895f"
      },
      "execution_count": 18,
      "outputs": [
        {
          "output_type": "stream",
          "name": "stdout",
          "text": [
            "Elements in tge list:  [6, 8, 10, 12, 14, 16, 18, 20, 22, 24, 26, 28, 30, 32, 34]\n",
            "Length of the list:  15\n",
            "10 is present in the list\n"
          ]
        }
      ]
    },
    {
      "cell_type": "markdown",
      "source": [],
      "metadata": {
        "id": "8tBT9yLkSyQS"
      }
    }
  ]
}