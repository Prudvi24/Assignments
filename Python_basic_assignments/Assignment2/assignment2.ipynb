{
  "nbformat": 4,
  "nbformat_minor": 0,
  "metadata": {
    "colab": {
      "provenance": []
    },
    "kernelspec": {
      "name": "python3",
      "display_name": "Python 3"
    },
    "language_info": {
      "name": "python"
    }
  },
  "cells": [
    {
      "cell_type": "markdown",
      "source": [
        "Q1) What are the two values of the Boolean data type? How do you write them?"
      ],
      "metadata": {
        "id": "iN-umqFpsw8q"
      }
    },
    {
      "cell_type": "markdown",
      "source": [
        "Sol:</br>\n",
        "True and False are the two boolean data types. <br>\n",
        "True is evaluated when the condition is satisfied.<br>\n",
        "False is evaluated when the condition is not satisfied.<br>\n",
        "In python boolean data types are keywords written as \"True\" and \"False\""
      ],
      "metadata": {
        "id": "3FWQ54X6syU6"
      }
    },
    {
      "cell_type": "markdown",
      "source": [
        "Q2) What are the three different types of Boolean operators?"
      ],
      "metadata": {
        "id": "8a5kjgIMtZB-"
      }
    },
    {
      "cell_type": "markdown",
      "source": [
        "Sol: <br>\n",
        "Three operators are as follow:\n",
        "\"NOT\", \"AND\", \"OR\""
      ],
      "metadata": {
        "id": "Em75F2UYw5r9"
      }
    },
    {
      "cell_type": "markdown",
      "source": [
        "Q3) Make a list of each Boolean operator's truth tables (i.e. every possible combination of Boolean values for the operator and what it evaluate)."
      ],
      "metadata": {
        "id": "Eayzk9khxeW6"
      }
    },
    {
      "cell_type": "markdown",
      "source": [
        "Sol:<br>\n",
        " <table>\n",
        "  <tr>\n",
        "    <th></th>\n",
        "    <th>AND</th>\n",
        "    <th></th>\n",
        "  </tr>\n",
        "  <tr>\n",
        "    <td>0</td>\n",
        "    <td>0</td>\n",
        "    <td>0</td>\n",
        "  </tr>\n",
        "  <tr>\n",
        "    <td>0</td>\n",
        "    <td>1</td>\n",
        "    <td>0</td>\n",
        "  </tr>\n",
        "    <tr>\n",
        "    <td>1</td>\n",
        "    <td>0</td>\n",
        "    <td>0</td>\n",
        "  </tr>\n",
        "  <tr>\n",
        "    <td>1</td>\n",
        "    <td>1</td>\n",
        "    <td>1</td>\n",
        "  </tr>\n",
        "</table>\n",
        "\n",
        " <table>\n",
        "  <tr>\n",
        "    <th></th>\n",
        "    <th>OR</th>\n",
        "    <th></th>\n",
        "  </tr>\n",
        "  <tr>\n",
        "    <td>0</td>\n",
        "    <td>0</td>\n",
        "    <td>0</td>\n",
        "  </tr>\n",
        "  <tr>\n",
        "    <td>0</td>\n",
        "    <td>1</td>\n",
        "    <td>1</td>\n",
        "  </tr>\n",
        "    <tr>\n",
        "    <td>1</td>\n",
        "    <td>0</td>\n",
        "    <td>1</td>\n",
        "  </tr>\n",
        "  <tr>\n",
        "    <td>1</td>\n",
        "    <td>1</td>\n",
        "    <td>1</td>\n",
        "  </tr>\n",
        "</table>\n",
        "\n",
        "<table>\n",
        "  <tr>\n",
        "    <th></th>\n",
        "    <th>NOT</th>\n",
        "    <th></th>\n",
        "  </tr>\n",
        "  <tr>\n",
        "    <td>0</td>\n",
        "    <td>1</td>\n",
        "  </tr>\n",
        "  <tr>\n",
        "    <td>1</td>\n",
        "    <td>0</td>\n",
        "  </tr>\n",
        "</table>"
      ],
      "metadata": {
        "id": "ks6AvzZMyMH1"
      }
    },
    {
      "cell_type": "markdown",
      "source": [
        "Q4) What are the values of the following expressions?  <br>\n",
        "(5 > 4) and (3 == 5) <br>\n",
        "not (5 > 4) <br>\n",
        "(5 > 4) or (3 == 5) <br>\n",
        "not ((5 > 4) or (3 == 5)) <br>\n",
        "(True and True) and (True == False) <br>\n",
        "(not False) or (not True) <br>"
      ],
      "metadata": {
        "id": "KjHgP3b8MOy1"
      }
    },
    {
      "cell_type": "markdown",
      "source": [
        "Sol:<br>\n",
        "(5 > 4) and (3 == 5) evaluates to <b>False</b> <br>\n",
        "not (5 > 4) evaluates to <b>False</b> <br>\n",
        "(5 > 4) or (3 == 5) evaluates to <b>True</b> <br>\n",
        "not ((5 > 4) or (3 == 5)) evaluates to <b>False</b> <br>\n",
        "(True and True) and (True == False) evaluates to <b>False</b><br>\n",
        "(not False) or (not True) evalutes to <b>True</b> </br>"
      ],
      "metadata": {
        "id": "HHaGrkBsPZj8"
      }
    },
    {
      "cell_type": "markdown",
      "source": [
        "Q5) What are the six comparison operators?"
      ],
      "metadata": {
        "id": "z5lrUC2hVSkB"
      }
    },
    {
      "cell_type": "markdown",
      "source": [
        "Sol:<br>\n",
        "<ul>\n",
        "<li>Greater (>)</li>\n",
        "<li>Greater than equals to (>=)</li>\n",
        "<li>Lesser (<)</li>\n",
        "<li>Lesser than equals to (<=)</li>\n",
        "<li>Equal to (==)</li>\n",
        "<li>Not equals to (!=)</li>\n",
        "</ul>"
      ],
      "metadata": {
        "id": "NzVDaRdxVejN"
      }
    },
    {
      "cell_type": "markdown",
      "source": [
        "Q6) How do you tell the difference between the equal to and assignment operators? Describe a condition and when you would use one."
      ],
      "metadata": {
        "id": "C9ydTqofV9Vl"
      }
    },
    {
      "cell_type": "markdown",
      "source": [
        "Sol:<br>\n",
        "equals to operator (==) always evalutes to either true or false<br>\n",
        "eg : if(a==b): <br>\n",
        "       print(\"True\")<br>\n",
        "     else: <br>\n",
        "        print(\"False\") <br>\n",
        "assignment operator (=) used to assign a value to variable or used in expression when evaluated to someother value.\n",
        "eg:<br>\n",
        "a = b+c<br>\n",
        "a = 10<br>"
      ],
      "metadata": {
        "id": "MJx-nBWAWJ4t"
      }
    },
    {
      "cell_type": "markdown",
      "source": [
        "Q7) Identify the three blocks in this code: <br>\n",
        "spam = 0 <br>\n",
        "if spam == 10: <br>\n",
        "print('eggs') <br>\n",
        "if spam > 5: <br>\n",
        "print('bacon') <br>\n",
        "else: <br>\n",
        "print('ham') <br>\n",
        "print('spam') <br>\n",
        "print('spam') <br>"
      ],
      "metadata": {
        "id": "z0ifeVzbdDiI"
      }
    },
    {
      "cell_type": "markdown",
      "source": [
        "Sol:<br>\n",
        "Block 1<br>\n",
        "spam = 0 <br>\n",
        "------------------------<br>\n",
        "Block 2<br>\n",
        "if spam == 10:<br>\n",
        "print('eggs')<br>\n",
        "--------------------------<br>\n",
        "if spam > 5: <br>\n",
        "print('bacon') <br>\n",
        "else:<br>\n",
        "print('ham')<br>\n",
        "print('spam')<br>\n",
        "print('spam')<br>\n",
        "--------------------------<br>"
      ],
      "metadata": {
        "id": "NnFWpoLneGTK"
      }
    },
    {
      "cell_type": "markdown",
      "source": [
        "Q8) Write code that prints Hello if 1 is stored in spam, prints Howdy if 2 is stored in spam, and prints Greetings! if anything else is stored in spam."
      ],
      "metadata": {
        "id": "yN7xqD-BeeD0"
      }
    },
    {
      "cell_type": "code",
      "source": [
        "spam = int(input(\"Enter the value of spam: \"))\n",
        "if(spam==1):\n",
        "  print(\"Hello\")\n",
        "elif(spam==2):\n",
        "  print(\"Howdy\")\n",
        "else:\n",
        "  print(\"Greetings!\")"
      ],
      "metadata": {
        "colab": {
          "base_uri": "https://localhost:8080/"
        },
        "id": "cnR6Bzede8Zy",
        "outputId": "75f01ce3-f1c7-4622-81f0-515b476ce749"
      },
      "execution_count": 3,
      "outputs": [
        {
          "output_type": "stream",
          "name": "stdout",
          "text": [
            "Enter the value of spam: 1\n",
            "Hello\n"
          ]
        }
      ]
    },
    {
      "cell_type": "markdown",
      "source": [
        "Q9) If your programme is stuck in an endless loop, what keys you’ll press?"
      ],
      "metadata": {
        "id": "goWNq2uFi6B2"
      }
    },
    {
      "cell_type": "markdown",
      "source": [
        "Sol:<br>\n",
        "\"ctrl+c or ctrl+z\""
      ],
      "metadata": {
        "id": "_JJlu8wUi8yG"
      }
    },
    {
      "cell_type": "markdown",
      "source": [
        "Q10) How can you tell the difference between break and continue?"
      ],
      "metadata": {
        "id": "-Yyw8zPee7iE"
      }
    },
    {
      "cell_type": "markdown",
      "source": [
        "Sol:<br>\n",
        "break: Break statement is used stop entire part of the loop for the following iterations<br>\n",
        "eg:<br>\n",
        "if(i==4): <br>\n",
        "break <br>\n",
        "In the above lines if i==4 it will stop entire loop and comes out of loop.<br>\n",
        "Continue: Continue statement is used to stop specific iteration of the loop<br>\n",
        "if(i==4): <br>\n",
        "continue <br>\n",
        "The above lines if i==4 will stop the specific iteration where i==4 and execute for all other till the condition is true.\n"
      ],
      "metadata": {
        "id": "VZA75oTRgaNd"
      }
    },
    {
      "cell_type": "markdown",
      "source": [
        "Q11) In a for loop, what is the difference between range(10), range(0, 10), and range(0, 10, 1)?"
      ],
      "metadata": {
        "id": "P6Lw52F_iuRf"
      }
    },
    {
      "cell_type": "markdown",
      "source": [
        "Sol:<br>\n",
        "range in python returns a list of seqeuence of numbers. Its takes three parameters.<br>\n",
        "range(start,stop,step)<br>\n",
        "<b>range(10)</b>, Here the start is not mentioned, so 0 is taken as default. It return list of number from 0 to 9.<br>\n",
        "<b>range(0,10)</b>, Here the start is mentioned as 0, stop is  10, and the default step is 1, hence it returns list of numbers 0 to 9. <br>\n",
        "<b>range(0,10,1)</b>, From the above intution it returns list of numbers from 0,9 with step size as 1.\n"
      ],
      "metadata": {
        "id": "WzTMev6eqo4y"
      }
    },
    {
      "cell_type": "markdown",
      "source": [
        "Q12) Write a short program that prints the numbers 1 to 10 using a for loop. Then write an equivalent program that prints the numbers 1 to 10 using a while loop."
      ],
      "metadata": {
        "id": "yYu1pWdCY91Y"
      }
    },
    {
      "cell_type": "code",
      "source": [
        "for i in range(1,11,1):\n",
        "  print(i, end=\" \")\n",
        "print(\"\")\n",
        "\n",
        "i=1\n",
        "while(i<11):\n",
        "  print(i, end=\" \")\n",
        "  i += 1"
      ],
      "metadata": {
        "colab": {
          "base_uri": "https://localhost:8080/"
        },
        "id": "9NzSU8gdZEPm",
        "outputId": "c87e0991-ef58-4eb1-c638-0da9ca563280"
      },
      "execution_count": 3,
      "outputs": [
        {
          "output_type": "stream",
          "name": "stdout",
          "text": [
            "1 2 3 4 5 6 7 8 9 10 \n",
            "1 2 3 4 5 6 7 8 9 10 "
          ]
        }
      ]
    },
    {
      "cell_type": "markdown",
      "source": [
        "Q13) If you had a function named bacon() inside a module named spam, how would you call it after importing spam?"
      ],
      "metadata": {
        "id": "MOc3nQUiZ-iI"
      }
    },
    {
      "cell_type": "markdown",
      "source": [
        "\"from spam import bacon\" or import spam.bacon as sb"
      ],
      "metadata": {
        "id": "kUrPxzT-aDwU"
      }
    },
    {
      "cell_type": "markdown",
      "source": [],
      "metadata": {
        "id": "mGg4346ucx9P"
      }
    }
  ]
}