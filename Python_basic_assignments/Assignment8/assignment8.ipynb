{
  "nbformat": 4,
  "nbformat_minor": 0,
  "metadata": {
    "colab": {
      "provenance": []
    },
    "kernelspec": {
      "name": "python3",
      "display_name": "Python 3"
    },
    "language_info": {
      "name": "python"
    }
  },
  "cells": [
    {
      "cell_type": "markdown",
      "source": [
        "<b>1) In Python, what is the difference between a built-in function and a user-defined function? Provide an\n",
        "example of each.</b>"
      ],
      "metadata": {
        "id": "wm17Fj4FlMro"
      }
    },
    {
      "cell_type": "markdown",
      "source": [
        "Ans :<br>\n",
        "**Built-in functions** are the predefined function that comes with python. We can use these at any point of time by importing the modules in case of complex functions (like sklearn functions).<br>\n",
        "The main advantage is code resuability and inbuilt functions are implemented in space and time efficient manner. There is no chance of memory leakage in inbuilt functions.<br>\n",
        "There are different types of inbuilt-functions\n",
        "1. I/O functions\n",
        "2. String functions\n",
        "3. List functions, etc\n",
        "E.g : len() function to find length, now() function in datetime module, id() function to return the address of a variable, etc.\n",
        "<br><br>\n",
        "User-defined functions are the functions that are defined by the user / programmer. User defined functions are more flexible, hence user can modifiy the function in the desired way to use in the application. Memory leakage may occur when user uses OOPs concepts in function unlike inbuilt functions<br>\n",
        "E.g : ans = fib() to find fibonaci series."
      ],
      "metadata": {
        "id": "uIYbcnLclz8r"
      }
    },
    {
      "cell_type": "code",
      "execution_count": null,
      "metadata": {
        "colab": {
          "base_uri": "https://localhost:8080/"
        },
        "id": "rfz6jb35lBYM",
        "outputId": "0e0f4e45-6283-4134-9ca5-825d1e48ad82"
      },
      "outputs": [
        {
          "output_type": "stream",
          "name": "stdout",
          "text": [
            "Length of list:  5\n",
            "Length of string:  8\n",
            "Current time is:  2023-08-22 05:10:42.677798\n"
          ]
        }
      ],
      "source": [
        "# user defined functions\n",
        "\n",
        "list1 = [1,2,3,4,5]\n",
        "str1 = \"inspiron\"\n",
        "\n",
        "print(\"Length of list: \",len(list1))\n",
        "print(\"Length of string: \",len(str1))\n",
        "\n",
        "from datetime import datetime\n",
        "print(\"Current time is: \",datetime.now())"
      ]
    },
    {
      "cell_type": "code",
      "source": [
        "# user defined functions\n",
        "\n",
        "def fib(n):\n",
        "  a = 0\n",
        "  b = 1\n",
        "  for i in range(1,n+1):\n",
        "    print(a, end=\" \")\n",
        "    a, b = b, a+b\n",
        "fib(8)"
      ],
      "metadata": {
        "colab": {
          "base_uri": "https://localhost:8080/"
        },
        "id": "3DHu27Fapwdq",
        "outputId": "37272f7f-5883-4ce7-ebae-5f1724fffadb"
      },
      "execution_count": null,
      "outputs": [
        {
          "output_type": "stream",
          "name": "stdout",
          "text": [
            "0 1 1 2 3 5 8 13 "
          ]
        }
      ]
    },
    {
      "cell_type": "markdown",
      "source": [
        "<b>2) How can you pass arguments to a function in Python? Explain the difference between positional\n",
        "arguments and keyword arguments.</b>\n"
      ],
      "metadata": {
        "id": "K9Lnzz2yq5Qk"
      }
    },
    {
      "cell_type": "markdown",
      "source": [
        "Ans:<br>\n",
        "Functions arguments are passed in the function parenthesis. There are different ways to pass the arguments to the functions based on the definition.\n",
        "1. positional argumnets.<br>\n",
        "2. Keyword arguments. <br>\n",
        "\n",
        "**Position arguments** : These are the arguments that are passed in ordered way to the functions. Change in order may change the output.\n",
        "So it required to the know the order of argument, prior passing arguments to the functions. Positional args can be received in *agrs parameter and it returns tuple.<br>\n",
        "E.g : fun1('a','b','c','d','e') // fun1 is a function and a,b,c,d,and e are positional paramters.<br><br>\n",
        "\n",
        "**Keyword arguments** : These are the arguments that passed with parameter names to the functions. Change in the order will not change the input. It is not required to know the order of a parameters, prior passing arguments to the functions. Keyword args can be received in **args parameter and it returns dictionary.\n",
        "E.g : fun1(name1='a',name2='b',name3='c',name4='d')"
      ],
      "metadata": {
        "id": "GxFELRBqq9Yb"
      }
    },
    {
      "cell_type": "code",
      "source": [
        "# positional argument\n",
        "\n",
        "def add_strings(s1,s2,s3,s4,s5):\n",
        "  result = s1+\" \"+s2+\" \"+s3+\" \"+s4+\" \"+s5\n",
        "  return result\n",
        "\n",
        "s1 = \"abc\"\n",
        "s2 = \"def\"\n",
        "s3 = \"ghi\"\n",
        "s4 = \"jkl\"\n",
        "s5 = \"mno\"\n",
        "print(\"Without changing parameter the order: \", add_strings(s1,s2,s3,s4,s5))\n",
        "print()\n",
        "print(\"Changing parameter the order: \", add_strings(s1,s4,s3,s2,s5))\n",
        "print()\n",
        "\n",
        "def str_to_tuple(*args):\n",
        "  return args\n",
        "\n",
        "print(\"Output of *args: \", str_to_tuple(s1,s2,s3,s4,s5))"
      ],
      "metadata": {
        "colab": {
          "base_uri": "https://localhost:8080/"
        },
        "id": "JA8rEy7bvgH0",
        "outputId": "207e51f0-8177-467b-89ef-05ad7f947338"
      },
      "execution_count": null,
      "outputs": [
        {
          "output_type": "stream",
          "name": "stdout",
          "text": [
            "Without changing parameter the order:  abc def ghi jkl mno\n",
            "\n",
            "Changing parameter the order:  abc jkl ghi def mno\n",
            "\n",
            "Output of *args:  ('abc', 'def', 'ghi', 'jkl', 'mno')\n"
          ]
        }
      ]
    },
    {
      "cell_type": "code",
      "source": [
        "# keyword argument\n",
        "\n",
        "def add_strings(s1,s2,s3,s4,s5):\n",
        "  result = s1+\" \"+s2+\" \"+s3+\" \"+s4+\" \"+s5\n",
        "  return result\n",
        "\n",
        "print(\"Parameters in desired order: \", add_strings(s1 = \"abc\", s2 = \"def\", s3 = \"ghi\", s4 = \"jkl\", s5 = \"mno\"))\n",
        "print()\n",
        "print(\"Parameters in random order: \", add_strings(s1 = \"abc\", s5 = \"mno\", s3 = \"ghi\", s4 = \"jkl\", s2 = \"def\"))\n",
        "print()\n",
        "\n",
        "def str_to_tuple(**args):\n",
        "  return args\n",
        "\n",
        "print(\"Output of **args: \", str_to_tuple(s1 = \"abc\", s5 = \"mno\", s3 = \"ghi\", s4 = \"jkl\", s2 = \"def\"))"
      ],
      "metadata": {
        "colab": {
          "base_uri": "https://localhost:8080/"
        },
        "id": "koNZQD_8xB94",
        "outputId": "116918f4-7a33-4016-d6f8-aa4e83519254"
      },
      "execution_count": null,
      "outputs": [
        {
          "output_type": "stream",
          "name": "stdout",
          "text": [
            "Parameters in desired order:  abc def ghi jkl mno\n",
            "\n",
            "Parameters in random order:  abc def ghi jkl mno\n",
            "\n",
            "Output of **args:  {'s1': 'abc', 's5': 'mno', 's3': 'ghi', 's4': 'jkl', 's2': 'def'}\n"
          ]
        }
      ]
    },
    {
      "cell_type": "markdown",
      "source": [
        "<b>3) What is the purpose of the return statement in a function? Can a function have multiple return\n",
        "statements? Explain with an example.</b>"
      ],
      "metadata": {
        "id": "t_SA_ezAyB1y"
      }
    },
    {
      "cell_type": "markdown",
      "source": [
        "Ans : <br>\n",
        "Return statement are used to return a value or some structure to the calling functions after successfull excution of the function. If there is no return then these functions are called as void function and the return type is \"NoneType\". Once a return  statement of the functions is exeucted all the variables pushed on to the stack memory for execution will be erased.<br>\n",
        "Yes,a functions can have define mutiple return statement, but it executes only one return statement. The statements are the return are strictly not executed, as it clears memory from execution stack.<br>\n",
        "Multiple return statements can be executed in **decorator functions**. Decorator function is a function that accepts a function as parameter and returns a function."
      ],
      "metadata": {
        "id": "VUZWpyeWyIC8"
      }
    },
    {
      "cell_type": "code",
      "source": [
        "# single return statement\n",
        "def string_ret(s):\n",
        "  print(\"Hello\")\n",
        "  return s\n",
        "  print(\"Function execution completed!!\")\n",
        "\n",
        "print(string_ret(\"New world\"))\n",
        "\n",
        "# we can see that statements after return are never executed"
      ],
      "metadata": {
        "colab": {
          "base_uri": "https://localhost:8080/"
        },
        "id": "e4xNk9pVyK6P",
        "outputId": "b69d313d-96a9-40af-cde7-372c8611665b"
      },
      "execution_count": null,
      "outputs": [
        {
          "output_type": "stream",
          "name": "stdout",
          "text": [
            "Hello\n",
            "New world\n"
          ]
        }
      ]
    },
    {
      "cell_type": "code",
      "source": [
        "# Multiple return\n",
        "\n",
        "def even_odd(n):\n",
        "  if(n%2==0):\n",
        "    return 0;\n",
        "  else:\n",
        "    return 1\n",
        "ans = even_odd(105)\n",
        "if(ans):\n",
        "  print(\"odd number\")\n",
        "else:\n",
        "  print(\"Even number\")"
      ],
      "metadata": {
        "colab": {
          "base_uri": "https://localhost:8080/"
        },
        "id": "ZuLOgwio0iso",
        "outputId": "31d1aaf4-7389-47f2-9284-22465068038a"
      },
      "execution_count": null,
      "outputs": [
        {
          "output_type": "stream",
          "name": "stdout",
          "text": [
            "odd number\n"
          ]
        }
      ]
    },
    {
      "cell_type": "code",
      "source": [
        "# decorator with multiple return statements.\n",
        "# multiple return statements are executed\n",
        "\n",
        "def decorator_function(num):\n",
        "  def wrapper():\n",
        "    res = num()\n",
        "    res *= 100\n",
        "    return res\n",
        "  return wrapper\n",
        "\n",
        "@decorator_function\n",
        "def num():\n",
        "  return 5\n",
        "\n",
        "print(num())"
      ],
      "metadata": {
        "colab": {
          "base_uri": "https://localhost:8080/"
        },
        "id": "I8nRdT2fTIkr",
        "outputId": "bfaeba7c-7dfa-4489-ec3f-3db3f873d4d5"
      },
      "execution_count": null,
      "outputs": [
        {
          "output_type": "stream",
          "name": "stdout",
          "text": [
            "500\n"
          ]
        }
      ]
    },
    {
      "cell_type": "markdown",
      "source": [
        "<b>4) What are lambda functions in Python? How are they different from regular functions? Provide an\n",
        "example where a lambda function can be useful.</b>"
      ],
      "metadata": {
        "id": "9XBN-NZ_T2vk"
      }
    },
    {
      "cell_type": "markdown",
      "source": [
        "Ans:<br>\n",
        "Lambda functions are anonymous functions which means a function without a name.<br>\n",
        "Basically, these functions are used when there is a need to use the small code snippet / expression, multiple number of times in the program. These functions are contains very simple and onliner code/expressions. These functions are also called as inline functions<br>\n",
        "Defining large and complex make it very to read.<br>\n",
        "There is no need of return statement<br>\n",
        "**syntax : lambda arguments : expression**<br>\n",
        "<br>\n",
        "Regular functions : are the functions that are defined with a name, it can encompass a very large and complex code. It make the readibility very easy. It returns an abject."
      ],
      "metadata": {
        "id": "H9pA3zp1-ECI"
      }
    },
    {
      "cell_type": "code",
      "source": [
        "# lambda function to print even or odd numbers\n",
        "l1 = [1,2,3,4,5,6,7,8,9]\n",
        "\n",
        "f = lambda x : [\"even\" if(x%2==0) else \"odd\" for x in l1]\n",
        "f(l1)"
      ],
      "metadata": {
        "id": "DuOgAjXgT2T9",
        "colab": {
          "base_uri": "https://localhost:8080/"
        },
        "outputId": "fc09979d-a6d3-420b-954a-fd8119d09088"
      },
      "execution_count": null,
      "outputs": [
        {
          "output_type": "execute_result",
          "data": {
            "text/plain": [
              "['odd', 'even', 'odd', 'even', 'odd', 'even', 'odd', 'even', 'odd']"
            ]
          },
          "metadata": {},
          "execution_count": 2
        }
      ]
    },
    {
      "cell_type": "code",
      "source": [
        "# check even or odd using regular functions\n",
        "l2 = []\n",
        "def even_odd_checker(l1):\n",
        "  for i in l1:\n",
        "    if(i%2==0):\n",
        "      l2.append(\"even\")\n",
        "    else:\n",
        "      l2.append(\"odd\")\n",
        "  return l2\n",
        "\n",
        "print(even_odd_checker(l1))"
      ],
      "metadata": {
        "colab": {
          "base_uri": "https://localhost:8080/"
        },
        "id": "ix09BAZ4Bpmd",
        "outputId": "594bca23-b047-4865-8fac-4caf3ae8b6e4"
      },
      "execution_count": null,
      "outputs": [
        {
          "output_type": "stream",
          "name": "stdout",
          "text": [
            "['odd', 'even', 'odd', 'even', 'odd', 'even', 'odd', 'even', 'odd']\n"
          ]
        }
      ]
    },
    {
      "cell_type": "markdown",
      "source": [
        "<b>5) How does the concept of \"scope\" apply to functions in Python? Explain the difference between local\n",
        "scope and global scope.</b>"
      ],
      "metadata": {
        "id": "Z109ZcXyEC91"
      }
    },
    {
      "cell_type": "markdown",
      "source": [
        "Ans:<br>\n",
        "There is only one global scope in the entire python prgoram and global variable in python are not defined inside the function.<br>\n",
        "There can be many local scope in the program because local variables are created and stored in the stack of process. When the specific work is done the varaibles are popped from the process stack (varibales are erased) from the scope, local variables are defined inside the function, life is till the function execution completion.<br>\n",
        "\n"
      ],
      "metadata": {
        "id": "vklUO-GEEE7L"
      }
    },
    {
      "cell_type": "code",
      "source": [
        "def fun():\n",
        "    global s1\n",
        "    s1 += ' Course'\n",
        "    print(s1)\n",
        "    s1 = \"Basic python assignments\"\n",
        "    print(s1)\n",
        "\n",
        "# Global Scope\n",
        "s1 = \"iNeuron\"\n",
        "fun()\n",
        "print(s1)"
      ],
      "metadata": {
        "colab": {
          "base_uri": "https://localhost:8080/"
        },
        "id": "IojCvnhvOz4j",
        "outputId": "65407fa8-8872-4125-9541-6f8c6d7a2a12"
      },
      "execution_count": 4,
      "outputs": [
        {
          "output_type": "stream",
          "name": "stdout",
          "text": [
            "iNeuron Course\n",
            "Basic python assignments\n",
            "Basic python assignments\n"
          ]
        }
      ]
    },
    {
      "cell_type": "markdown",
      "source": [
        "<b>6) How can you use the \"return\" statement in a Python function to return multiple values?</b>"
      ],
      "metadata": {
        "id": "iWuFnTmQ8YnF"
      }
    },
    {
      "cell_type": "markdown",
      "source": [
        "Ans:<br>\n",
        "In pythonn there are multiple ways to return multiple values from the function.\n",
        "<ol>\n",
        "<li>Classes and objects : Similar to other programming lanugages we can use classes and objects to encapsulate the required values and return them.</li>\n",
        "<li> Dictionary : We return dictionary with multiple values as well as other data structures from the function</li>\n",
        "<li>List : lists also allow us to return multiple values, it can homogenous or heterogenous.</li>\n",
        "<li>Set : Sets are also used to return the multiple values by removing duplicates elements</li>\n",
        "<li>Yield : yield is used to capture all the computations from the function and return the evaluted values all togther (multiple values)</li>\n",
        "</ol>"
      ],
      "metadata": {
        "id": "4FtfLVEl8o4k"
      }
    },
    {
      "cell_type": "code",
      "source": [
        "# returning multiple values using calsses and objects\n",
        "class Student:\n",
        "\n",
        "  def __init__(self, name, rollNo):\n",
        "    self.name = name\n",
        "    self.rollNo = rollNo\n",
        "\n",
        "  def details(self):\n",
        "    print(f\"Student name is {self.name} and roll number is: {self.rollNo}\")\n",
        "\n",
        "def fun1(name, roll):\n",
        "  s1 = Student(name,roll)\n",
        "  return s1                # returning multiple values at a time\n",
        "\n",
        "so = fun1(\"Arjun\",100)\n",
        "so.details()"
      ],
      "metadata": {
        "colab": {
          "base_uri": "https://localhost:8080/"
        },
        "id": "X5OlED2o_90v",
        "outputId": "2b4710be-2057-458f-c34a-a50ffd29058d"
      },
      "execution_count": null,
      "outputs": [
        {
          "output_type": "stream",
          "name": "stdout",
          "text": [
            "Student name is Arjun and roll number is: 100\n"
          ]
        }
      ]
    },
    {
      "cell_type": "code",
      "source": [
        "# returning using tuples\n",
        "def fun2():\n",
        "  return 1,\"a\",2,\"3\",\"arjun\"\n",
        "\n",
        "f2 = fun2()\n",
        "print(f2)"
      ],
      "metadata": {
        "colab": {
          "base_uri": "https://localhost:8080/"
        },
        "id": "iEOO7KxGBmJj",
        "outputId": "2b251a2b-aeaa-465d-d4f8-c38781ea4d8f"
      },
      "execution_count": null,
      "outputs": [
        {
          "output_type": "stream",
          "name": "stdout",
          "text": [
            "(1, 'a', 2, '3', 'arjun')\n"
          ]
        }
      ]
    },
    {
      "cell_type": "code",
      "source": [
        "#returning using list\n",
        "def fun3():\n",
        "  l = list(range(1,20,2))\n",
        "  return l\n",
        "print(fun3())"
      ],
      "metadata": {
        "colab": {
          "base_uri": "https://localhost:8080/"
        },
        "id": "0-xH0QRW8YCJ",
        "outputId": "a9cbc2ca-0192-47a3-b864-0cc2cbf5f6cd"
      },
      "execution_count": null,
      "outputs": [
        {
          "output_type": "stream",
          "name": "stdout",
          "text": [
            "[1, 3, 5, 7, 9, 11, 13, 15, 17, 19]\n"
          ]
        }
      ]
    },
    {
      "cell_type": "code",
      "source": [
        "# returning using dict\n",
        "def fun4():\n",
        "  d = {\"names\":['A','C','M','P'],\"roll\":[1,2,3,5], \"subjects\":2, \"batch\":2024}\n",
        "  return d\n",
        "print(fun4())"
      ],
      "metadata": {
        "colab": {
          "base_uri": "https://localhost:8080/"
        },
        "id": "v0ARSfmrCVGt",
        "outputId": "8736abd7-5360-4c1b-edc6-a388883167e2"
      },
      "execution_count": null,
      "outputs": [
        {
          "output_type": "stream",
          "name": "stdout",
          "text": [
            "{'names': ['A', 'C', 'M', 'P'], 'roll': [1, 2, 3, 5], 'subjects': 2, 'batch': 2024}\n"
          ]
        }
      ]
    },
    {
      "cell_type": "code",
      "source": [
        "# returning using yield\n",
        "def fun5():\n",
        "  a = 0\n",
        "  b = 1\n",
        "  for i in range(0,15,1):\n",
        "    yield a                # capturing multiple values\n",
        "    a, b = b, a+b\n",
        "lis1 = fun5()\n",
        "for i in lis1:\n",
        "  print(i, end=\" \")"
      ],
      "metadata": {
        "colab": {
          "base_uri": "https://localhost:8080/"
        },
        "id": "fiIi-ULVCz7u",
        "outputId": "08ca460e-c952-4c07-93eb-238217450376"
      },
      "execution_count": null,
      "outputs": [
        {
          "output_type": "stream",
          "name": "stdout",
          "text": [
            "0 1 1 2 3 5 8 13 21 34 55 89 144 233 377 "
          ]
        }
      ]
    },
    {
      "cell_type": "markdown",
      "source": [
        "<b>7) What is the difference between the \"pass by value\" and \"pass by reference\" concepts when it\n",
        "comes to function arguments in Python?</b>"
      ],
      "metadata": {
        "id": "9bZcEeynDbYG"
      }
    },
    {
      "cell_type": "markdown",
      "source": [
        "Ans:<br>\n",
        "Python neither follows pass by value or pass by reference. It follows pass by object reference.<br>\n",
        "Basically passing the address of variable to the function is called pass by reference. In here it doesn't create a new temporary memory location for variable.<br>\n",
        "In pass by value the the address of variable is not given the function as argument instead a new temp variable is created and copies the variable value. Manipulation done will not be reflected in the original variable.<br>\n",
        "In pass by reference object, values by are passed to function by object reference. If object is immutable the modified values will not be available outside the function but if the object is mutuable the the modified object value is available outside the function."
      ],
      "metadata": {
        "id": "fsT1aNQLDqN_"
      }
    },
    {
      "cell_type": "code",
      "source": [
        "def val(lst):\n",
        "  lst.append(500)\n",
        "  print(lst, id(lst))\n",
        "  lst = [1,2,3,4,5]\n",
        "  print(lst, id(lst))\n",
        "\n",
        "lst = [\"Arjun\",\"Salar\"]\n",
        "val(lst)\n",
        "print(lst, id(lst))\n",
        "# we can see in the output that the address of the list in function is changed when we initialized with new list\n",
        "# because the list refernce is changed\n",
        "# New list is not reflected in the original list."
      ],
      "metadata": {
        "colab": {
          "base_uri": "https://localhost:8080/"
        },
        "id": "3aWTWkV7LkLx",
        "outputId": "99d47838-e7d0-43a9-9544-853f80d14f8b"
      },
      "execution_count": 8,
      "outputs": [
        {
          "output_type": "stream",
          "name": "stdout",
          "text": [
            "['Arjun', 'Salar', 500] 135864184162816\n",
            "[1, 2, 3, 4, 5] 135864473422208\n",
            "['Arjun', 'Salar', 500] 135864184162816\n"
          ]
        }
      ]
    },
    {
      "cell_type": "markdown",
      "source": [
        "<b>8) Create a function that can intake integer or decimal value and do following operations:<br>\n",
        "a. Logarithmic function (log x)<br>\n",
        "b. Exponential function (exp(x))<br>\n",
        "c. Power function with base 2 <br>\n",
        "d. Square root<br></b>"
      ],
      "metadata": {
        "id": "C8wAFoqjEMqt"
      }
    },
    {
      "cell_type": "markdown",
      "source": [
        "Ans:<br>\n",
        "Below is the code the describe the above operation"
      ],
      "metadata": {
        "id": "esQF7N3-EkaM"
      }
    },
    {
      "cell_type": "code",
      "source": [
        "import math\n",
        "def math_operations(x):\n",
        "  natural_log = math.log(x);\n",
        "  log2base = math.log(x,2)\n",
        "  print(f\"Natural log of x: {natural_log}\")\n",
        "  print(f\"Log base 2 of x: {log2base}\")\n",
        "\n",
        "  exp_op = math.exp(x)\n",
        "  print(f\"Exponent of x: {exp_op}\")\n",
        "\n",
        "  pow_op = pow(2,x)\n",
        "  print(f\"Power of x base 2: {pow_op}\")\n",
        "\n",
        "  sq_op = math.sqrt(x)\n",
        "  print(f\"Sqaure root of x: {sq_op}\")\n",
        "\n",
        "math_operations(10)"
      ],
      "metadata": {
        "colab": {
          "base_uri": "https://localhost:8080/"
        },
        "id": "gbIuNSAIIPBz",
        "outputId": "bad074ff-34ae-4a70-aeeb-3dff9e721ebc"
      },
      "execution_count": 2,
      "outputs": [
        {
          "output_type": "stream",
          "name": "stdout",
          "text": [
            "Natural log of x: 2.302585092994046\n",
            "Log base 2 of x: 3.3219280948873626\n",
            "Exponent of x: 22026.465794806718\n",
            "Power of x base 2: 1024\n",
            "Sqaure root of x: 3.1622776601683795\n"
          ]
        }
      ]
    },
    {
      "cell_type": "markdown",
      "source": [
        "<b>9) Create a function that takes a full name as an argument and returns first name and last name.</b>"
      ],
      "metadata": {
        "id": "Rup1SsMoEmc0"
      }
    },
    {
      "cell_type": "code",
      "source": [
        "def fun6(fullname):\n",
        "  firstname, lastname = fullname.split(\" \",1)\n",
        "  return firstname, lastname\n",
        "\n",
        "inp = input(\"Enter full name: \")\n",
        "inp = fun6(inp)\n",
        "print(f\"First name is {inp[0]}\")\n",
        "print(f\"Last name is {inp[1]}\")"
      ],
      "metadata": {
        "colab": {
          "base_uri": "https://localhost:8080/"
        },
        "id": "ASGAYFuQErWQ",
        "outputId": "a0a69b1f-0ee7-4b39-e663-2578cade5862"
      },
      "execution_count": null,
      "outputs": [
        {
          "output_type": "stream",
          "name": "stdout",
          "text": [
            "Enter full name: arjun suravaram\n",
            "First name is arjun\n",
            "Last name is suravaram\n"
          ]
        }
      ]
    }
  ]
}