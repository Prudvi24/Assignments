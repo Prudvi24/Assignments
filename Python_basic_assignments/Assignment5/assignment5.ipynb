{
  "nbformat": 4,
  "nbformat_minor": 0,
  "metadata": {
    "colab": {
      "provenance": []
    },
    "kernelspec": {
      "name": "python3",
      "display_name": "Python 3"
    },
    "language_info": {
      "name": "python"
    }
  },
  "cells": [
    {
      "cell_type": "markdown",
      "source": [
        "<b>1. What does an empty dictionary&#39;s code look like?</b>"
      ],
      "metadata": {
        "id": "BbDBRFdN0-oN"
      }
    },
    {
      "cell_type": "markdown",
      "source": [
        "Ans : Empty dictionaries can be created in two ways\n",
        "<ol>\n",
        "<li>s = {} , s is an empty dictionary</li>\n",
        "<li>s = dict(), here also s is an empty dictionary</li>\n",
        "</ol>"
      ],
      "metadata": {
        "id": "-2AfCXIe2fGC"
      }
    },
    {
      "cell_type": "markdown",
      "source": [
        "<b>2. What is the value of a dictionary value with the key &#39;foo&#39; and the value 42?</b>"
      ],
      "metadata": {
        "id": "n93W1GNE3AWO"
      }
    },
    {
      "cell_type": "markdown",
      "source": [
        "Ans : The dictionary with key 'foo' and value 42 can be created using the following way,<br>\n",
        "d = { 'foo' : 42 }<br>"
      ],
      "metadata": {
        "id": "0rICBx7o3Kfv"
      }
    },
    {
      "cell_type": "markdown",
      "source": [
        "<b>3. What is the most significant distinction between a dictionary and a list?</b>"
      ],
      "metadata": {
        "id": "T0qB5fZM3exK"
      }
    },
    {
      "cell_type": "markdown",
      "source": [
        "Ans : <br>\n",
        "The most significant distinction between a dict and list is:<br>\n",
        "<ul>\n",
        "<li>dict is declared as {} or dict() whereas list can be declared as [] or list()</li>\n",
        "<li>dictionary is implemented as (key, value) pair where as list is not implemented as key value pair but only values are considered </li>\n",
        "<li>dictonary is unordered where as list is ordered</li>\n",
        "<li>dictionary can be considered as hashmaps where as list can be considered as heterogenous arrays.</li>\n",
        "<li>dictionary is implemented as key based index where as list is implemented as sequence based index.</li>\n",
        "<li>dictionary can't store duplicate keys where as list can store duplicate values.</li>\n",
        "</ul>"
      ],
      "metadata": {
        "id": "vtcErtHd3xGs"
      }
    },
    {
      "cell_type": "markdown",
      "source": [
        "<b>4. What happens if you try to access spam[&#39;foo&#39;] if spam is {&#39;bar&#39;: 100}?</b>"
      ],
      "metadata": {
        "id": "Ly4DfwxX6BwD"
      }
    },
    {
      "cell_type": "markdown",
      "source": [
        "Ans : Since spam has only one key 'bar'. </br>\n",
        "If we try to access 'foo' which is not a key in dict spam it raises an keyError (key not found)."
      ],
      "metadata": {
        "id": "zrCHN3DF6CKF"
      }
    },
    {
      "cell_type": "markdown",
      "source": [
        "<b>5. If a dictionary is stored in spam, what is the difference between the expressions &#39;cat&#39; in spam and\n",
        "&#39;cat&#39; in spam.keys()?</b>"
      ],
      "metadata": {
        "id": "sSkWKmgE6ptM"
      }
    },
    {
      "cell_type": "markdown",
      "source": [
        "Ans :<br>\n",
        "<ul>\n",
        "<li>'cat' in spam means it searches for the 'cat' as key in the dict and return the true if present else false</li>\n",
        "<li>'cat' in spam.keys() means spam.keys() extract all keys from the spam dict and then searches the key whether 'cat' is present or not. If present it return true, else return false.\n",
        "</ul>"
      ],
      "metadata": {
        "id": "Dep0Pmed68x7"
      }
    },
    {
      "cell_type": "markdown",
      "source": [
        "<b>6. If a dictionary is stored in spam, what is the difference between the expressions &#39;cat&#39; in spam and\n",
        "&#39;cat&#39; in spam.values()?</b>"
      ],
      "metadata": {
        "id": "SCL1fxww7-ol"
      }
    },
    {
      "cell_type": "markdown",
      "source": [
        "Ans:<br>\n",
        "<ul>\n",
        "<li>'cat' in spam means it searches for the 'cat' as key in the dict and return the true if present else false</li>\n",
        "<li>'cat' in spam.values() means spam.values() extract all values from the spam dict and then searches, whether 'cat' is present in the spam values or not. If present it return true, else return false.\n",
        "</ul>"
      ],
      "metadata": {
        "id": "VfmGF3X28I_o"
      }
    },
    {
      "cell_type": "markdown",
      "source": [
        "<b>7. What is a shortcut for the following code?</br>\n",
        "if &#39;color&#39; not in spam:</br>\n",
        "spam[&#39;color&#39;] = &#39;black&#39;</b>"
      ],
      "metadata": {
        "id": "hlm7I-SV8gpP"
      }
    },
    {
      "cell_type": "markdown",
      "source": [
        "Ans : <br>\n",
        "dict.setdefault(key,defaultvalue) <br>\n",
        "set the key to the default value if the key is not specified in the dictionary<br>\n",
        "spam.setdefault('color',\"black\")"
      ],
      "metadata": {
        "id": "onfJzTOn8qzz"
      }
    },
    {
      "cell_type": "markdown",
      "source": [
        "<b>8. How do you &quot;pretty print&quot; dictionary values using which module and function?</b>"
      ],
      "metadata": {
        "id": "zXBllTLGAbTD"
      }
    },
    {
      "cell_type": "markdown",
      "source": [
        "Ans:<br>\n",
        "pretty print in python, particularly in large and nested dictionary it is used to improve the data readability.<br>\n",
        "There the different way to achieve the better readability.\n",
        "<ul>\n",
        "<li>Python pprint module : It display complex datasets in very easy and readable format.</li>\n",
        "<li>python json module : It is a very efficient module to display the large and complicated data in structured manner.</li>\n",
        "</ul>"
      ],
      "metadata": {
        "id": "RwhyHF6CAmrt"
      }
    },
    {
      "cell_type": "code",
      "execution_count": 2,
      "metadata": {
        "colab": {
          "base_uri": "https://localhost:8080/"
        },
        "id": "iJyEyiaO05Dg",
        "outputId": "26a0724a-0bed-4a48-a4d3-533a8c150bd8"
      },
      "outputs": [
        {
          "output_type": "stream",
          "name": "stdout",
          "text": [
            "{'Institute': 'ABC IT', 'branches': {'AP': 2, 'TS': 2, 'MP': 3, 'UP': 5, 'KS': 1}, 'Area': 'MP', 'Dep': 'CSE', 'Student': {'name': 'xyz', 'roll': 100, 'courses': 3, 'email': 'abc@it.com'}, 'CY': 5}\n"
          ]
        }
      ],
      "source": [
        "large_data = {\"Institute\":\"ABC IT\",\"branches\":{\"AP\":2,\"TS\":2,\"MP\":3,\"UP\":5,\"KS\":1},\"Area\":\"MP\",\"Dep\":\"CSE\",\"Student\":{\"name\":\"xyz\",\"roll\":100,\"courses\":3,\"email\":\"abc@it.com\"},\"CY\":5}"
      ]
    },
    {
      "cell_type": "code",
      "source": [
        "# using pprint module\n",
        "import pprint\n",
        "pprint.pprint(large_data)"
      ],
      "metadata": {
        "colab": {
          "base_uri": "https://localhost:8080/"
        },
        "id": "aCmdxtEO1QQR",
        "outputId": "cc5761ca-6a55-4a8a-9dd4-2f5c2e054100"
      },
      "execution_count": 4,
      "outputs": [
        {
          "output_type": "stream",
          "name": "stdout",
          "text": [
            "{'Area': 'MP',\n",
            " 'CY': 5,\n",
            " 'Dep': 'CSE',\n",
            " 'Institute': 'ABC IT',\n",
            " 'Student': {'courses': 3, 'email': 'abc@it.com', 'name': 'xyz', 'roll': 100},\n",
            " 'branches': {'AP': 2, 'KS': 1, 'MP': 3, 'TS': 2, 'UP': 5}}\n"
          ]
        }
      ]
    },
    {
      "cell_type": "code",
      "source": [
        "pprint.PrettyPrinter(width=20).pprint(large_data)   #using width"
      ],
      "metadata": {
        "colab": {
          "base_uri": "https://localhost:8080/"
        },
        "id": "QAtj11krly-6",
        "outputId": "3eac5561-e1a6-472b-c28d-ea8a61b545fd"
      },
      "execution_count": 5,
      "outputs": [
        {
          "output_type": "stream",
          "name": "stdout",
          "text": [
            "{'Area': 'MP',\n",
            " 'CY': 5,\n",
            " 'Dep': 'CSE',\n",
            " 'Institute': 'ABC '\n",
            "              'IT',\n",
            " 'Student': {'courses': 3,\n",
            "             'email': 'abc@it.com',\n",
            "             'name': 'xyz',\n",
            "             'roll': 100},\n",
            " 'branches': {'AP': 2,\n",
            "              'KS': 1,\n",
            "              'MP': 3,\n",
            "              'TS': 2,\n",
            "              'UP': 5}}\n"
          ]
        }
      ]
    },
    {
      "cell_type": "code",
      "source": [
        "#using json module\n",
        "import json\n",
        "res = json.dumps(large_data, indent=4)\n",
        "print(type(res))\n",
        "print(res)"
      ],
      "metadata": {
        "colab": {
          "base_uri": "https://localhost:8080/"
        },
        "id": "Go8kxrWGl9hy",
        "outputId": "85502b7d-3b85-4c48-acd8-ee2e94c53b8a"
      },
      "execution_count": 8,
      "outputs": [
        {
          "output_type": "stream",
          "name": "stdout",
          "text": [
            "<class 'str'>\n",
            "{\n",
            "    \"Institute\": \"ABC IT\",\n",
            "    \"branches\": {\n",
            "        \"AP\": 2,\n",
            "        \"TS\": 2,\n",
            "        \"MP\": 3,\n",
            "        \"UP\": 5,\n",
            "        \"KS\": 1\n",
            "    },\n",
            "    \"Area\": \"MP\",\n",
            "    \"Dep\": \"CSE\",\n",
            "    \"Student\": {\n",
            "        \"name\": \"xyz\",\n",
            "        \"roll\": 100,\n",
            "        \"courses\": 3,\n",
            "        \"email\": \"abc@it.com\"\n",
            "    },\n",
            "    \"CY\": 5\n",
            "}\n"
          ]
        }
      ]
    }
  ]
}