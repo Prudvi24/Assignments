{
  "nbformat": 4,
  "nbformat_minor": 0,
  "metadata": {
    "colab": {
      "provenance": []
    },
    "kernelspec": {
      "name": "python3",
      "display_name": "Python 3"
    },
    "language_info": {
      "name": "python"
    }
  },
  "cells": [
    {
      "cell_type": "markdown",
      "source": [
        "<b>Q.1. What are keywords in python? Using the keyword library, print all the python keywords.</b>"
      ],
      "metadata": {
        "id": "YuppeRRkl1o7"
      }
    },
    {
      "cell_type": "markdown",
      "source": [
        "Ans:<br>\n",
        "Keywords are the reserved words in python.<br>\n",
        "We can't use a keyword as variable name, function or any other identifier.<br>\n",
        "keywords are case sensitive.<br>"
      ],
      "metadata": {
        "id": "xEsUm-W4l-U7"
      }
    },
    {
      "cell_type": "code",
      "execution_count": 11,
      "metadata": {
        "colab": {
          "base_uri": "https://localhost:8080/"
        },
        "id": "s4h4pHTwlx4P",
        "outputId": "ca396abe-e8a2-448f-be41-87c32c366784"
      },
      "outputs": [
        {
          "output_type": "stream",
          "name": "stdout",
          "text": [
            "['False', 'None', 'True', 'and', 'as', 'assert', 'async', 'await', 'break', 'class', 'continue', 'def', 'del', 'elif', 'else', 'except', 'finally', 'for', 'from', 'global', 'if', 'import', 'in', 'is', 'lambda', 'nonlocal', 'not', 'or', 'pass', 'raise', 'return', 'try', 'while', 'with', 'yield']\n",
            "Number of keywords:  35\n",
            "True is a keyword in python:  True\n",
            "true is a keyword in python:  False\n"
          ]
        }
      ],
      "source": [
        "import keyword\n",
        "key_list = keyword.kwlist\n",
        "print(key_list)\n",
        "print(\"Number of keywords: \",len(key_list))\n",
        "\n",
        "# To check keyword in python\n",
        "print(\"True is a keyword in python: \",keyword.iskeyword(\"True\"))\n",
        "print(\"true is a keyword in python: \",keyword.iskeyword(\"true\"))"
      ]
    },
    {
      "cell_type": "markdown",
      "source": [
        "<b>2. What are the rules to create variables in python?</b>"
      ],
      "metadata": {
        "id": "DYyhDR47yjPV"
      }
    },
    {
      "cell_type": "markdown",
      "source": [
        "Ans : Rules to create a variable in python,<br>\n",
        "<ul>\n",
        "<li>Variables ca be the combination of letters in lowercase (a-z) or uppercase (A-Z) or digit or an underscore.</li>\n",
        "<li>An identifier can't start with a digit, '1var' is invalid but 'var1' is valid.</li>\n",
        "<li>keywords can't be used by variables.</li>\n",
        "<li>Symbols are not allowed for defining a variables. symbols like !,@,#,$,%,^,&,*,ect<li>\n",
        "</ul>"
      ],
      "metadata": {
        "id": "KQpXKJiPypi_"
      }
    },
    {
      "cell_type": "markdown",
      "source": [
        "<b>3. What are the standards and conventions followed for the nomenclature of variables in\n",
        "python to improve code readability and maintainability?<b>"
      ],
      "metadata": {
        "id": "3giiUd2Ez3VY"
      }
    },
    {
      "cell_type": "markdown",
      "source": [
        "There are four naming convention of variables in python to improve code readability and maintainability.<br>\n",
        "<ol>\n",
        "<li>Pascal case : In pascal case, the first character of a variable is in uppercase along with first letter of every new word appended. This is used to define python classes.\n",
        "<ul><li>Eg : **MaxNumInList** = max([1,2,3,4,5,6])</li></ul></li>\n",
        "<li>Camel case : It is very similar to the pascal case but it drops the first letter capitalize. This is not very much used in python.<ul><li>Eg : **maxNumInList** = max([1,2,3,4,5,6])</li></ul></li>\n",
        "<li>Snake case : Here all the words are in lowercase and seperated by underscore. It is mostly used to define functions in python.\n",
        "<ul><li>Eg : def sort_a_list():</li></ul>\n",
        " </li>\n",
        "</ol>"
      ],
      "metadata": {
        "id": "8Msomgns0ERS"
      }
    },
    {
      "cell_type": "markdown",
      "source": [
        "<b>4. What will happen if a keyword is used as a variable name?</b>"
      ],
      "metadata": {
        "id": "xlgkTIppBSJC"
      }
    },
    {
      "cell_type": "markdown",
      "source": [
        "Ans:<br>\n",
        "Python compiler knows the reserved keywords in python. So when we use keyword as variable name, it creates an ambiguity for a compiler and it raises an syntaxError."
      ],
      "metadata": {
        "id": "4zv5jT0hBaUd"
      }
    },
    {
      "cell_type": "markdown",
      "source": [
        "<b>5. For what purpose def keyword is used?</b>"
      ],
      "metadata": {
        "id": "0iXZxr1GCBWx"
      }
    },
    {
      "cell_type": "markdown",
      "source": [
        "Ans : def is keyword and it is used to define function in python.<br>\n",
        "Eg: def evenOdd(n):<br>\n",
        "&emsp; return n%2==0<br>\n",
        "In the above code snippet, def is followed by evenOdd (it is the function name)."
      ],
      "metadata": {
        "id": "myq6ZylaCHkR"
      }
    },
    {
      "cell_type": "markdown",
      "source": [
        "<b>6. For what purpose def keyword is used '\\\\'?</b>"
      ],
      "metadata": {
        "id": "AjvsZhvJCwM4"
      }
    },
    {
      "cell_type": "markdown",
      "source": [
        "Ans : Backslash '\\\\' is a special character in python also known as escape symbol. It is used to represent whitespace character. Also used in prefixing a special character with \"\\\" turns it into an normal character.<br>"
      ],
      "metadata": {
        "id": "RL6lHVZXC8ll"
      }
    },
    {
      "cell_type": "code",
      "source": [
        "# represent as whitespace characters\n",
        "\n",
        "print('Good\\thappy')    # tab space\n",
        "print(\"Gaming\\nmobile\") # newline character"
      ],
      "metadata": {
        "colab": {
          "base_uri": "https://localhost:8080/"
        },
        "id": "CQtXF9xfBcTS",
        "outputId": "240dc2d2-0a74-4cf3-876d-aa7c91f0f452"
      },
      "execution_count": 13,
      "outputs": [
        {
          "output_type": "stream",
          "name": "stdout",
          "text": [
            "Good\thappy\n",
            "Gaming\n",
            "mobile\n"
          ]
        }
      ]
    },
    {
      "cell_type": "code",
      "source": [
        "# Used in prefixing\n",
        "print(\"\\\"Happy\\\"\")           # prefixing \\\"      \\\" to print Happy in double quotation\n",
        "print('It\\'s a rainy day')   # prefixing after it to make ' normal character"
      ],
      "metadata": {
        "colab": {
          "base_uri": "https://localhost:8080/"
        },
        "id": "82QF6f9oEzqy",
        "outputId": "9afd971b-5aa9-4a0e-a375-fc54c1dd7063"
      },
      "execution_count": 14,
      "outputs": [
        {
          "output_type": "stream",
          "name": "stdout",
          "text": [
            "\"Happy\"\n",
            "It's a rainy day\n"
          ]
        }
      ]
    },
    {
      "cell_type": "markdown",
      "source": [
        "<b>7. Give an example of the following conditions:<br>\n",
        " (i) Homogeneous list <br>\n",
        "(ii) Heterogeneous set <br>\n",
        "(iii) Homogeneous tuple <br></b>"
      ],
      "metadata": {
        "id": "FbdU_NyDFY6O"
      }
    },
    {
      "cell_type": "markdown",
      "source": [
        "Ans : <br>\n",
        "Homogeneous : A datastructure containing elements of same type is called Homongeneous datastructure.<br>\n",
        "Homogeneous : A datastructure containing elements of atleast one different type is called Heterogeneous datastructure.<br>"
      ],
      "metadata": {
        "id": "6MByU878FrTA"
      }
    },
    {
      "cell_type": "code",
      "source": [
        "list1 = [9,8,4,1,5,7,2]   # Homogeneous list : containing all elements of type int\n",
        "set1 = {\"abc\",1,\"cde\",78.94,\"pqr\",\"xyz\",1+2j,78.94}  # Heterogeneous set : containing elements of different type\n",
        "tup1 = ('a','1','b','2','c','3')  # Homogeneous tuple : containing elements of same type characters/strings\n",
        "\n",
        "print(list1)\n",
        "print(set1)\n",
        "print(tup1)"
      ],
      "metadata": {
        "colab": {
          "base_uri": "https://localhost:8080/"
        },
        "id": "KpSWpJK6Eztp",
        "outputId": "72297697-e7e0-41b2-fb83-9b1e183ebce1"
      },
      "execution_count": 15,
      "outputs": [
        {
          "output_type": "stream",
          "name": "stdout",
          "text": [
            "[9, 8, 4, 1, 5, 7, 2]\n",
            "{1, 'cde', 'pqr', 'abc', (1+2j), 'xyz', 78.94}\n",
            "('a', '1', 'b', '2', 'c', '3')\n"
          ]
        }
      ]
    },
    {
      "cell_type": "markdown",
      "source": [
        "<b>8. Explain the mutable and immutable data types with proper explanation & examples.</b>"
      ],
      "metadata": {
        "id": "9xeGvdByHFiq"
      }
    },
    {
      "cell_type": "markdown",
      "source": [
        "Ans : <br>\n",
        "mutable : Mutable is the property that allow us to change object data or value after creation or defintion.<br>\n",
        "Eg of mutable objects : list, set, dict.\n",
        "immutable : Immutable is the property that strictly don't allow us to change the object data or value after creation or definition.\n",
        "Eg of immutable data structures : string, tuple, frozenset, int, float etc."
      ],
      "metadata": {
        "id": "vsq2AFUqHUaq"
      }
    },
    {
      "cell_type": "code",
      "source": [
        "# mutable example\n",
        "list2 = [1,2,3,4,5]\n",
        "list2.append(\"abc\")  # append to the list\n",
        "list2[2]=100         # replace the value at index 2\n",
        "print(list2)"
      ],
      "metadata": {
        "colab": {
          "base_uri": "https://localhost:8080/"
        },
        "id": "ILZ-_MFEHExN",
        "outputId": "34df6718-b4a6-4a4d-88ed-bb59d31ed8d7"
      },
      "execution_count": 17,
      "outputs": [
        {
          "output_type": "stream",
          "name": "stdout",
          "text": [
            "[1, 2, 100, 4, 5, 'abc']\n"
          ]
        }
      ]
    },
    {
      "cell_type": "markdown",
      "source": [
        "In the above example, we can see that list2 elements are modified / changed with some values. It didn't raise any error."
      ],
      "metadata": {
        "id": "lMKI2VIOURyi"
      }
    },
    {
      "cell_type": "code",
      "source": [
        "# immutable example\n",
        "t2 = (1,2,3,4)\n",
        "t2[2] = 100"
      ],
      "metadata": {
        "colab": {
          "base_uri": "https://localhost:8080/",
          "height": 212
        },
        "id": "kJrWD1chUNmh",
        "outputId": "ba7d90ad-23be-4e6c-80e0-56d0554a9176"
      },
      "execution_count": 18,
      "outputs": [
        {
          "output_type": "error",
          "ename": "TypeError",
          "evalue": "ignored",
          "traceback": [
            "\u001b[0;31m---------------------------------------------------------------------------\u001b[0m",
            "\u001b[0;31mTypeError\u001b[0m                                 Traceback (most recent call last)",
            "\u001b[0;32m<ipython-input-18-594105440fad>\u001b[0m in \u001b[0;36m<cell line: 3>\u001b[0;34m()\u001b[0m\n\u001b[1;32m      1\u001b[0m \u001b[0;31m# immutable example\u001b[0m\u001b[0;34m\u001b[0m\u001b[0;34m\u001b[0m\u001b[0m\n\u001b[1;32m      2\u001b[0m \u001b[0mt2\u001b[0m \u001b[0;34m=\u001b[0m \u001b[0;34m(\u001b[0m\u001b[0;36m1\u001b[0m\u001b[0;34m,\u001b[0m\u001b[0;36m2\u001b[0m\u001b[0;34m,\u001b[0m\u001b[0;36m3\u001b[0m\u001b[0;34m,\u001b[0m\u001b[0;36m4\u001b[0m\u001b[0;34m)\u001b[0m\u001b[0;34m\u001b[0m\u001b[0;34m\u001b[0m\u001b[0m\n\u001b[0;32m----> 3\u001b[0;31m \u001b[0mt2\u001b[0m\u001b[0;34m[\u001b[0m\u001b[0;36m2\u001b[0m\u001b[0;34m]\u001b[0m \u001b[0;34m=\u001b[0m \u001b[0;36m100\u001b[0m\u001b[0;34m\u001b[0m\u001b[0;34m\u001b[0m\u001b[0m\n\u001b[0m",
            "\u001b[0;31mTypeError\u001b[0m: 'tuple' object does not support item assignment"
          ]
        }
      ]
    },
    {
      "cell_type": "code",
      "source": [
        "str1 = \"technology\"\n",
        "str1[2] = 'm'"
      ],
      "metadata": {
        "colab": {
          "base_uri": "https://localhost:8080/",
          "height": 195
        },
        "id": "Mii6b1wjUnNu",
        "outputId": "ebdacb8d-111b-4d68-a7d4-152e2e91da55"
      },
      "execution_count": 19,
      "outputs": [
        {
          "output_type": "error",
          "ename": "TypeError",
          "evalue": "ignored",
          "traceback": [
            "\u001b[0;31m---------------------------------------------------------------------------\u001b[0m",
            "\u001b[0;31mTypeError\u001b[0m                                 Traceback (most recent call last)",
            "\u001b[0;32m<ipython-input-19-0dcb6f912624>\u001b[0m in \u001b[0;36m<cell line: 2>\u001b[0;34m()\u001b[0m\n\u001b[1;32m      1\u001b[0m \u001b[0mstr1\u001b[0m \u001b[0;34m=\u001b[0m \u001b[0;34m\"technology\"\u001b[0m\u001b[0;34m\u001b[0m\u001b[0;34m\u001b[0m\u001b[0m\n\u001b[0;32m----> 2\u001b[0;31m \u001b[0mstr1\u001b[0m\u001b[0;34m[\u001b[0m\u001b[0;36m2\u001b[0m\u001b[0;34m]\u001b[0m \u001b[0;34m=\u001b[0m \u001b[0;34m'm'\u001b[0m\u001b[0;34m\u001b[0m\u001b[0;34m\u001b[0m\u001b[0m\n\u001b[0m",
            "\u001b[0;31mTypeError\u001b[0m: 'str' object does not support item assignment"
          ]
        }
      ]
    },
    {
      "cell_type": "code",
      "source": [
        "fs = frozenset([2,3,7,7,7,11,13])\n",
        "print(fs)\n",
        "fs.add(100)"
      ],
      "metadata": {
        "colab": {
          "base_uri": "https://localhost:8080/",
          "height": 229
        },
        "id": "RRysL7BzU4zx",
        "outputId": "9049f693-9915-4d56-ae09-9e21c960f567"
      },
      "execution_count": 23,
      "outputs": [
        {
          "output_type": "stream",
          "name": "stdout",
          "text": [
            "frozenset({2, 3, 7, 11, 13})\n"
          ]
        },
        {
          "output_type": "error",
          "ename": "AttributeError",
          "evalue": "ignored",
          "traceback": [
            "\u001b[0;31m---------------------------------------------------------------------------\u001b[0m",
            "\u001b[0;31mAttributeError\u001b[0m                            Traceback (most recent call last)",
            "\u001b[0;32m<ipython-input-23-07bbbe907b3a>\u001b[0m in \u001b[0;36m<cell line: 3>\u001b[0;34m()\u001b[0m\n\u001b[1;32m      1\u001b[0m \u001b[0mfs\u001b[0m \u001b[0;34m=\u001b[0m \u001b[0mfrozenset\u001b[0m\u001b[0;34m(\u001b[0m\u001b[0;34m[\u001b[0m\u001b[0;36m2\u001b[0m\u001b[0;34m,\u001b[0m\u001b[0;36m3\u001b[0m\u001b[0;34m,\u001b[0m\u001b[0;36m7\u001b[0m\u001b[0;34m,\u001b[0m\u001b[0;36m7\u001b[0m\u001b[0;34m,\u001b[0m\u001b[0;36m7\u001b[0m\u001b[0;34m,\u001b[0m\u001b[0;36m11\u001b[0m\u001b[0;34m,\u001b[0m\u001b[0;36m13\u001b[0m\u001b[0;34m]\u001b[0m\u001b[0;34m)\u001b[0m\u001b[0;34m\u001b[0m\u001b[0;34m\u001b[0m\u001b[0m\n\u001b[1;32m      2\u001b[0m \u001b[0mprint\u001b[0m\u001b[0;34m(\u001b[0m\u001b[0mfs\u001b[0m\u001b[0;34m)\u001b[0m\u001b[0;34m\u001b[0m\u001b[0;34m\u001b[0m\u001b[0m\n\u001b[0;32m----> 3\u001b[0;31m \u001b[0mfs\u001b[0m\u001b[0;34m.\u001b[0m\u001b[0madd\u001b[0m\u001b[0;34m(\u001b[0m\u001b[0;36m100\u001b[0m\u001b[0;34m)\u001b[0m\u001b[0;34m\u001b[0m\u001b[0;34m\u001b[0m\u001b[0m\n\u001b[0m",
            "\u001b[0;31mAttributeError\u001b[0m: 'frozenset' object has no attribute 'add'"
          ]
        }
      ]
    },
    {
      "cell_type": "markdown",
      "source": [
        "In the above three examples we can see that modifing the object is raising the errors. It is restrictly not allowed to change the object data. Hence they are called immutable objects."
      ],
      "metadata": {
        "id": "nrekJh5EUrRm"
      }
    },
    {
      "cell_type": "markdown",
      "source": [
        "<b>9. Write a code to create the given structure using only for loop.</b>"
      ],
      "metadata": {
        "id": "-ZNrp_DQWBZm"
      }
    },
    {
      "cell_type": "code",
      "source": [
        "\"\"\"\n",
        "        *\n",
        "      * * *\n",
        "    * * * * *\n",
        "  * * * * * * *\n",
        "* * * * * * * * *\n",
        "\n",
        "\"\"\"\n",
        "n = int(input(\"Enter a number: \"))\n",
        "st = 1\n",
        "sp = n-1\n",
        "for i in range(0,n,1):\n",
        "  # print spaces first\n",
        "  for j in range(0,sp,1):\n",
        "    print(\" \",end=\" \")\n",
        "\n",
        "  #print stars\n",
        "  for j in range(0,st,1):\n",
        "    print(\"*\",end=\" \")\n",
        "\n",
        "  for j in range(0,sp,1):\n",
        "    print(\" \",end=\" \")\n",
        "  print()\n",
        "  sp-=1\n",
        "  st+=2"
      ],
      "metadata": {
        "colab": {
          "base_uri": "https://localhost:8080/"
        },
        "id": "s9-vYhFTVriI",
        "outputId": "eb3ae8bd-34c7-4f8d-eed2-e552eda16b79"
      },
      "execution_count": 33,
      "outputs": [
        {
          "output_type": "stream",
          "name": "stdout",
          "text": [
            "Enter a number: 5\n",
            "        *         \n",
            "      * * *       \n",
            "    * * * * *     \n",
            "  * * * * * * *   \n",
            "* * * * * * * * * \n"
          ]
        }
      ]
    },
    {
      "cell_type": "markdown",
      "source": [
        "<b>10. Write a code to create the given structure using while loop.</b>"
      ],
      "metadata": {
        "id": "gBWeu1EFZ7nu"
      }
    },
    {
      "cell_type": "code",
      "source": [
        "\"\"\"\n",
        "\n",
        "| | | | | | | | |\n",
        "  | | | | | | |\n",
        "    | | | | |\n",
        "      | | |\n",
        "        |\n",
        "\n",
        "\"\"\"\n",
        "\n",
        "n = int(input(\"Enter a number: \"))\n",
        "st = 2*n-1\n",
        "sp = 0\n",
        "while(n>0):\n",
        "  # print spaces first\n",
        "  x = sp\n",
        "  while(x>0):\n",
        "    print(\" \",end=\" \")\n",
        "    x-=1\n",
        "\n",
        "  #print stars\n",
        "  y = st\n",
        "  while(y>0):\n",
        "    print(\"|\",end=\" \")\n",
        "    y-=1;\n",
        "  x = sp\n",
        "  while(x>0):\n",
        "    print(\" \",end=\" \")\n",
        "    x-=1\n",
        "  print()\n",
        "  sp+=1\n",
        "  st-=2\n",
        "  n-=1"
      ],
      "metadata": {
        "colab": {
          "base_uri": "https://localhost:8080/"
        },
        "id": "aGUTlMkHaB4u",
        "outputId": "3aa0fa9e-f082-4966-861c-af8634eefbc3"
      },
      "execution_count": 40,
      "outputs": [
        {
          "output_type": "stream",
          "name": "stdout",
          "text": [
            "Enter a number: 5\n",
            "| | | | | | | | | \n",
            "  | | | | | | |   \n",
            "    | | | | |     \n",
            "      | | |       \n",
            "        |         \n"
          ]
        }
      ]
    }
  ]
}