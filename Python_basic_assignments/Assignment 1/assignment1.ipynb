{
  "nbformat": 4,
  "nbformat_minor": 0,
  "metadata": {
    "colab": {
      "provenance": []
    },
    "kernelspec": {
      "name": "python3",
      "display_name": "Python 3"
    },
    "language_info": {
      "name": "python"
    }
  },
  "cells": [
    {
      "cell_type": "markdown",
      "source": [
        "Q1) 1. In the below elements which of them are values or an expression? eg:- values can be\n",
        "integer or string and expressions will be mathematical operators.\n",
        "<br>\n",
        "\\*\n",
        "<br>\n",
        "hello\n",
        "<br>\n",
        "-87.8\n",
        "<br>\n",
        "-\n",
        "<br>\n",
        "/\n",
        "<br>\n",
        "+\n",
        "<br>\n",
        "6"
      ],
      "metadata": {
        "id": "eTlbYZGc-rHP"
      }
    },
    {
      "cell_type": "markdown",
      "source": [
        "Solution : <br>\n",
        "The expressions can always be reduced to some values using mathematical operator.<br>\n",
        "Expressions are: *, -, /, +\n",
        "\n",
        "values are the basic individual elements used in expression in the programming. <br>\n",
        "values: Hello, -87.8, 6 <br>"
      ],
      "metadata": {
        "id": "r73D7dh7_3jc"
      }
    },
    {
      "cell_type": "markdown",
      "source": [
        "Q2) What is the difference between string and variable?"
      ],
      "metadata": {
        "id": "4JXK5O3CMWqO"
      }
    },
    {
      "cell_type": "markdown",
      "source": [
        "Solution: <br>\n",
        "**String** is a sequence of characters which is enclosed in quotes and it can be variable of constant. Mainly these are immutable.\n",
        "<br>\n",
        "**Variable** is a placeholder to store the data or information. The data can be string, int, etc. Variables in a lanuages are created with set of predefined rules.<br>\n",
        "a = \"name\"<br>\n",
        "a, is a variable of type string.\n",
        "\n"
      ],
      "metadata": {
        "id": "riQtfXCkMWz0"
      }
    },
    {
      "cell_type": "markdown",
      "source": [
        "Q3) Describe three different data types."
      ],
      "metadata": {
        "id": "IaB2uJxIMW4m"
      }
    },
    {
      "cell_type": "markdown",
      "source": [
        "Solution:<br>\n",
        "Three different data types in python:<br>\n",
        "<ol>\n",
        "<li>**Numeric**: It describe the data that is numeric in nature whether interger, float, double, complex numbers, etc</li>\n",
        "<li>**Boolean**: It represents the boolean values, either true or false.\n",
        "<li>**Seqential datatypes**: These are the datatypes that stores the data in an ordered collection / in a sequential manner, where each element in the structure is associated with the corresponding index value. We can access any element with the index.<br>\n",
        "E.g: lists, tuples, python arrays.\n",
        "<li>**String**\n",
        "</ol>"
      ],
      "metadata": {
        "id": "Wz6UBpSsPgMW"
      }
    },
    {
      "cell_type": "markdown",
      "source": [
        "Q4) What is an expression made up of? What do all expressions do?"
      ],
      "metadata": {
        "id": "GxsIwRcrS9xw"
      }
    },
    {
      "cell_type": "markdown",
      "source": [
        "Solution: <br>\n",
        "Expression is combination of operands and operator.<br>\n",
        "Expression in programming language always evaluate to a value."
      ],
      "metadata": {
        "id": "e-d1lyxMS-Sk"
      }
    },
    {
      "cell_type": "markdown",
      "source": [
        "Q5)This assignment statements, like spam = 10. What is the difference between an expression and a statement?"
      ],
      "metadata": {
        "id": "bkXXSg60Ua2q"
      }
    },
    {
      "cell_type": "markdown",
      "source": [
        "Solution:<br>\n",
        "Expression is a combination of operands and operators. It considerably refer code snippet that to a value.<br>\n",
        "E.g a = 2+5 <br>\n",
        "Statement is a structure the keep the program intact and inform the process to complete the task.\n",
        "Eg spam = 10, if statement, while loops, etc<br>"
      ],
      "metadata": {
        "id": "NCPJrMuYUbLx"
      }
    },
    {
      "cell_type": "markdown",
      "source": [
        "Q6) After running the following code, what does the variable bacon contain?<br>\n",
        "bacon = 22 <br>\n",
        "bacon + 1 <br>"
      ],
      "metadata": {
        "id": "OIiBiPvXXRrb"
      }
    },
    {
      "cell_type": "markdown",
      "source": [
        "Solution: The variable bacon after execution above two expression contains the value 22 because it is not  assigned after evaluting the second expression.</br>\n",
        "Correction is bacon += 1 <br>\n",
        "then bacon contains value 23"
      ],
      "metadata": {
        "id": "a4yjlfIjXR40"
      }
    },
    {
      "cell_type": "markdown",
      "source": [
        "Q7) What should the values of the following two terms be? <br>\n",
        "'spam' + 'spamspam' <br>\n",
        "'spam' * 3 <br>"
      ],
      "metadata": {
        "id": "LIlpkbjEYms3"
      }
    },
    {
      "cell_type": "markdown",
      "source": [
        "Solution:<br>\n",
        "'spam'+'spamspam' return \"spamspamspam\" <br>\n",
        "'spam'*3 return \"spamspamspam\" <br>\n"
      ],
      "metadata": {
        "id": "5LzlV1OSYmzi"
      }
    },
    {
      "cell_type": "markdown",
      "source": [
        "Q8) Why is eggs a valid variable name while 100 is invalid?"
      ],
      "metadata": {
        "id": "vWTxXDaPZQ9b"
      }
    },
    {
      "cell_type": "markdown",
      "source": [
        "Solution:<br>\n",
        "Generally a variable in python can be of any length with certain rules <br>\n",
        "<ul>\n",
        "<li>Varaibel cannot start with a number </li>\n",
        "<li>Varaible can have alpha numeric characters and underscore</li>\n",
        "<li>Varaible can start with underscore or a alphabet</li>\n",
        "<li>Variables cannot start with a number and variables can't be numeric in natures.</li>\n",
        "<li>They are case sensitive in nature</li>\n",
        "</ul>\n",
        "<br>\n",
        "eggs is valid variable because it follows all rules in for a valid variable.<br>\n",
        "100 is not a valid variable becase a it can not start with a number.<br>"
      ],
      "metadata": {
        "id": "F9pJ46JjZRDO"
      }
    },
    {
      "cell_type": "markdown",
      "source": [
        "Q9) What three functions can be used to get the integer, floating-point number, or string version of a value?"
      ],
      "metadata": {
        "id": "S5x3EdcSZRHR"
      }
    },
    {
      "cell_type": "markdown",
      "source": [
        "Solution:<br>\n",
        "<ul>\n",
        "<li>int(): This function takes a value as parameter is used to return an interger, but it can't take string as paramater</li>\n",
        "<li>float(): This function takes a value as paramter and returns a float. Parameter can't be a string</li>\n",
        "<li>str(): This function takes a value a parameter and return a string.\n",
        "</ul>"
      ],
      "metadata": {
        "id": "4e3oIHdDbAqF"
      }
    },
    {
      "cell_type": "markdown",
      "source": [
        "Q10) Why does this expression cause an error? How can you fix it? <br>\n",
        "'I have eaten ' + 99 + ' burritos.'"
      ],
      "metadata": {
        "id": "g3oalgK1bA7s"
      }
    },
    {
      "cell_type": "markdown",
      "source": [
        "Solution: <br>\n",
        "It raises an error because 99 is an Integer.<br>\n",
        "To fix it we can use str() for the numeric values in the expression and convert it to the string.\n",
        "'I have eaten'+str(99)+'burritos'"
      ],
      "metadata": {
        "id": "CiRl7QCLbBRN"
      }
    }
  ]
}